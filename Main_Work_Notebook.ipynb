{
 "cells": [
  {
   "cell_type": "markdown",
   "metadata": {},
   "source": [
    "# Milestones 2 Phase 1\n",
    "Nama  : William\n",
    "\n",
    "Batch : RMT-020\n",
    "\n",
    "Dataset : [Card Price](https://www.kaggle.com/datasets/deepcontractor/car-price-prediction-challenge)\n",
    "\n",
    "Objective :mengumpulkan data tentang berbagai fitur mobil, seperti merek, model, tahun produksi, volume mesin, jarak tempuh, jumlah pintu, dan fitur keselamatan lainnya. Model prediksi harga mobil kemudian dibangun dengan menggunakan algoritma machine learning seperti regresi linier, decision tree, atau random forest. Model ini akan digunakan untuk memprediksi harga mobil berdasarkan fitur-fitur yang ada, sehingga dapat membantu calon pembeli atau penjual mobil dalam menentukan harga yang sesuai."
   ]
  },
  {
   "cell_type": "markdown",
   "metadata": {},
   "source": [
    "# Import Libraries"
   ]
  },
  {
   "cell_type": "code",
   "execution_count": 196,
   "metadata": {},
   "outputs": [],
   "source": [
    "# Import library yang dibutuhkan\n",
    "import pandas as pd\n",
    "import numpy as np\n",
    "import matplotlib.pyplot as plt\n",
    "import seaborn as sns\n",
    "\n",
    "from sklearn.model_selection import train_test_split , GridSearchCV\n",
    "from sklearn.impute import KNNImputer\n",
    "from sklearn.model_selection import cross_val_score , KFold\n",
    "from sklearn.pipeline import Pipeline , make_pipeline\n",
    "from sklearn.compose import ColumnTransformer\n",
    "from feature_engine.outliers import Winsorizer\n",
    "from sklearn.preprocessing import OneHotEncoder, StandardScaler , LabelEncoder\n",
    "from sklearn.linear_model import LinearRegression\n",
    "from sklearn.neighbors import KNeighborsRegressor\n",
    "from sklearn.tree import DecisionTreeRegressor\n",
    "from sklearn.ensemble import RandomForestRegressor\n",
    "from sklearn.metrics import mean_absolute_error , mean_squared_error\n",
    "from joblib import dump, load\n",
    "\n",
    "# Mengatur opsi tampilan untuk menampilkan angka tanpa notasi pangkat\n",
    "pd.set_option('display.float_format', '{:.2f}'.format)\n",
    "import warnings\n",
    "warnings.filterwarnings('ignore')"
   ]
  },
  {
   "cell_type": "markdown",
   "metadata": {},
   "source": [
    "# Data Loading"
   ]
  },
  {
   "cell_type": "code",
   "execution_count": 2,
   "metadata": {},
   "outputs": [
    {
     "data": {
      "text/html": [
       "<div>\n",
       "<style scoped>\n",
       "    .dataframe tbody tr th:only-of-type {\n",
       "        vertical-align: middle;\n",
       "    }\n",
       "\n",
       "    .dataframe tbody tr th {\n",
       "        vertical-align: top;\n",
       "    }\n",
       "\n",
       "    .dataframe thead th {\n",
       "        text-align: right;\n",
       "    }\n",
       "</style>\n",
       "<table border=\"1\" class=\"dataframe\">\n",
       "  <thead>\n",
       "    <tr style=\"text-align: right;\">\n",
       "      <th></th>\n",
       "      <th>ID</th>\n",
       "      <th>Price</th>\n",
       "      <th>Levy</th>\n",
       "      <th>Manufacturer</th>\n",
       "      <th>Model</th>\n",
       "      <th>Prod. year</th>\n",
       "      <th>Category</th>\n",
       "      <th>Leather interior</th>\n",
       "      <th>Fuel type</th>\n",
       "      <th>Engine volume</th>\n",
       "      <th>Mileage</th>\n",
       "      <th>Cylinders</th>\n",
       "      <th>Gear box type</th>\n",
       "      <th>Drive wheels</th>\n",
       "      <th>Doors</th>\n",
       "      <th>Wheel</th>\n",
       "      <th>Color</th>\n",
       "      <th>Airbags</th>\n",
       "    </tr>\n",
       "  </thead>\n",
       "  <tbody>\n",
       "    <tr>\n",
       "      <th>0</th>\n",
       "      <td>45654403</td>\n",
       "      <td>13328</td>\n",
       "      <td>1399</td>\n",
       "      <td>LEXUS</td>\n",
       "      <td>RX 450</td>\n",
       "      <td>2010</td>\n",
       "      <td>Jeep</td>\n",
       "      <td>Yes</td>\n",
       "      <td>Hybrid</td>\n",
       "      <td>3.5</td>\n",
       "      <td>186005 km</td>\n",
       "      <td>6.00</td>\n",
       "      <td>Automatic</td>\n",
       "      <td>4x4</td>\n",
       "      <td>04-May</td>\n",
       "      <td>Left wheel</td>\n",
       "      <td>Silver</td>\n",
       "      <td>12</td>\n",
       "    </tr>\n",
       "    <tr>\n",
       "      <th>1</th>\n",
       "      <td>44731507</td>\n",
       "      <td>16621</td>\n",
       "      <td>1018</td>\n",
       "      <td>CHEVROLET</td>\n",
       "      <td>Equinox</td>\n",
       "      <td>2011</td>\n",
       "      <td>Jeep</td>\n",
       "      <td>No</td>\n",
       "      <td>Petrol</td>\n",
       "      <td>3</td>\n",
       "      <td>192000 km</td>\n",
       "      <td>6.00</td>\n",
       "      <td>Tiptronic</td>\n",
       "      <td>4x4</td>\n",
       "      <td>04-May</td>\n",
       "      <td>Left wheel</td>\n",
       "      <td>Black</td>\n",
       "      <td>8</td>\n",
       "    </tr>\n",
       "    <tr>\n",
       "      <th>2</th>\n",
       "      <td>45774419</td>\n",
       "      <td>8467</td>\n",
       "      <td>-</td>\n",
       "      <td>HONDA</td>\n",
       "      <td>FIT</td>\n",
       "      <td>2006</td>\n",
       "      <td>Hatchback</td>\n",
       "      <td>No</td>\n",
       "      <td>Petrol</td>\n",
       "      <td>1.3</td>\n",
       "      <td>200000 km</td>\n",
       "      <td>4.00</td>\n",
       "      <td>Variator</td>\n",
       "      <td>Front</td>\n",
       "      <td>04-May</td>\n",
       "      <td>Right-hand drive</td>\n",
       "      <td>Black</td>\n",
       "      <td>2</td>\n",
       "    </tr>\n",
       "    <tr>\n",
       "      <th>3</th>\n",
       "      <td>45769185</td>\n",
       "      <td>3607</td>\n",
       "      <td>862</td>\n",
       "      <td>FORD</td>\n",
       "      <td>Escape</td>\n",
       "      <td>2011</td>\n",
       "      <td>Jeep</td>\n",
       "      <td>Yes</td>\n",
       "      <td>Hybrid</td>\n",
       "      <td>2.5</td>\n",
       "      <td>168966 km</td>\n",
       "      <td>4.00</td>\n",
       "      <td>Automatic</td>\n",
       "      <td>4x4</td>\n",
       "      <td>04-May</td>\n",
       "      <td>Left wheel</td>\n",
       "      <td>White</td>\n",
       "      <td>0</td>\n",
       "    </tr>\n",
       "    <tr>\n",
       "      <th>4</th>\n",
       "      <td>45809263</td>\n",
       "      <td>11726</td>\n",
       "      <td>446</td>\n",
       "      <td>HONDA</td>\n",
       "      <td>FIT</td>\n",
       "      <td>2014</td>\n",
       "      <td>Hatchback</td>\n",
       "      <td>Yes</td>\n",
       "      <td>Petrol</td>\n",
       "      <td>1.3</td>\n",
       "      <td>91901 km</td>\n",
       "      <td>4.00</td>\n",
       "      <td>Automatic</td>\n",
       "      <td>Front</td>\n",
       "      <td>04-May</td>\n",
       "      <td>Left wheel</td>\n",
       "      <td>Silver</td>\n",
       "      <td>4</td>\n",
       "    </tr>\n",
       "    <tr>\n",
       "      <th>...</th>\n",
       "      <td>...</td>\n",
       "      <td>...</td>\n",
       "      <td>...</td>\n",
       "      <td>...</td>\n",
       "      <td>...</td>\n",
       "      <td>...</td>\n",
       "      <td>...</td>\n",
       "      <td>...</td>\n",
       "      <td>...</td>\n",
       "      <td>...</td>\n",
       "      <td>...</td>\n",
       "      <td>...</td>\n",
       "      <td>...</td>\n",
       "      <td>...</td>\n",
       "      <td>...</td>\n",
       "      <td>...</td>\n",
       "      <td>...</td>\n",
       "      <td>...</td>\n",
       "    </tr>\n",
       "    <tr>\n",
       "      <th>19232</th>\n",
       "      <td>45798355</td>\n",
       "      <td>8467</td>\n",
       "      <td>-</td>\n",
       "      <td>MERCEDES-BENZ</td>\n",
       "      <td>CLK 200</td>\n",
       "      <td>1999</td>\n",
       "      <td>Coupe</td>\n",
       "      <td>Yes</td>\n",
       "      <td>CNG</td>\n",
       "      <td>2.0 Turbo</td>\n",
       "      <td>300000 km</td>\n",
       "      <td>4.00</td>\n",
       "      <td>Manual</td>\n",
       "      <td>Rear</td>\n",
       "      <td>02-Mar</td>\n",
       "      <td>Left wheel</td>\n",
       "      <td>Silver</td>\n",
       "      <td>5</td>\n",
       "    </tr>\n",
       "    <tr>\n",
       "      <th>19233</th>\n",
       "      <td>45778856</td>\n",
       "      <td>15681</td>\n",
       "      <td>831</td>\n",
       "      <td>HYUNDAI</td>\n",
       "      <td>Sonata</td>\n",
       "      <td>2011</td>\n",
       "      <td>Sedan</td>\n",
       "      <td>Yes</td>\n",
       "      <td>Petrol</td>\n",
       "      <td>2.4</td>\n",
       "      <td>161600 km</td>\n",
       "      <td>4.00</td>\n",
       "      <td>Tiptronic</td>\n",
       "      <td>Front</td>\n",
       "      <td>04-May</td>\n",
       "      <td>Left wheel</td>\n",
       "      <td>Red</td>\n",
       "      <td>8</td>\n",
       "    </tr>\n",
       "    <tr>\n",
       "      <th>19234</th>\n",
       "      <td>45804997</td>\n",
       "      <td>26108</td>\n",
       "      <td>836</td>\n",
       "      <td>HYUNDAI</td>\n",
       "      <td>Tucson</td>\n",
       "      <td>2010</td>\n",
       "      <td>Jeep</td>\n",
       "      <td>Yes</td>\n",
       "      <td>Diesel</td>\n",
       "      <td>2</td>\n",
       "      <td>116365 km</td>\n",
       "      <td>4.00</td>\n",
       "      <td>Automatic</td>\n",
       "      <td>Front</td>\n",
       "      <td>04-May</td>\n",
       "      <td>Left wheel</td>\n",
       "      <td>Grey</td>\n",
       "      <td>4</td>\n",
       "    </tr>\n",
       "    <tr>\n",
       "      <th>19235</th>\n",
       "      <td>45793526</td>\n",
       "      <td>5331</td>\n",
       "      <td>1288</td>\n",
       "      <td>CHEVROLET</td>\n",
       "      <td>Captiva</td>\n",
       "      <td>2007</td>\n",
       "      <td>Jeep</td>\n",
       "      <td>Yes</td>\n",
       "      <td>Diesel</td>\n",
       "      <td>2</td>\n",
       "      <td>51258 km</td>\n",
       "      <td>4.00</td>\n",
       "      <td>Automatic</td>\n",
       "      <td>Front</td>\n",
       "      <td>04-May</td>\n",
       "      <td>Left wheel</td>\n",
       "      <td>Black</td>\n",
       "      <td>4</td>\n",
       "    </tr>\n",
       "    <tr>\n",
       "      <th>19236</th>\n",
       "      <td>45813273</td>\n",
       "      <td>470</td>\n",
       "      <td>753</td>\n",
       "      <td>HYUNDAI</td>\n",
       "      <td>Sonata</td>\n",
       "      <td>2012</td>\n",
       "      <td>Sedan</td>\n",
       "      <td>Yes</td>\n",
       "      <td>Hybrid</td>\n",
       "      <td>2.4</td>\n",
       "      <td>186923 km</td>\n",
       "      <td>4.00</td>\n",
       "      <td>Automatic</td>\n",
       "      <td>Front</td>\n",
       "      <td>04-May</td>\n",
       "      <td>Left wheel</td>\n",
       "      <td>White</td>\n",
       "      <td>12</td>\n",
       "    </tr>\n",
       "  </tbody>\n",
       "</table>\n",
       "<p>19237 rows × 18 columns</p>\n",
       "</div>"
      ],
      "text/plain": [
       "             ID  Price  Levy   Manufacturer    Model  Prod. year   Category   \n",
       "0      45654403  13328  1399          LEXUS   RX 450        2010       Jeep  \\\n",
       "1      44731507  16621  1018      CHEVROLET  Equinox        2011       Jeep   \n",
       "2      45774419   8467     -          HONDA      FIT        2006  Hatchback   \n",
       "3      45769185   3607   862           FORD   Escape        2011       Jeep   \n",
       "4      45809263  11726   446          HONDA      FIT        2014  Hatchback   \n",
       "...         ...    ...   ...            ...      ...         ...        ...   \n",
       "19232  45798355   8467     -  MERCEDES-BENZ  CLK 200        1999      Coupe   \n",
       "19233  45778856  15681   831        HYUNDAI   Sonata        2011      Sedan   \n",
       "19234  45804997  26108   836        HYUNDAI   Tucson        2010       Jeep   \n",
       "19235  45793526   5331  1288      CHEVROLET  Captiva        2007       Jeep   \n",
       "19236  45813273    470   753        HYUNDAI   Sonata        2012      Sedan   \n",
       "\n",
       "      Leather interior Fuel type Engine volume    Mileage  Cylinders   \n",
       "0                  Yes    Hybrid           3.5  186005 km       6.00  \\\n",
       "1                   No    Petrol             3  192000 km       6.00   \n",
       "2                   No    Petrol           1.3  200000 km       4.00   \n",
       "3                  Yes    Hybrid           2.5  168966 km       4.00   \n",
       "4                  Yes    Petrol           1.3   91901 km       4.00   \n",
       "...                ...       ...           ...        ...        ...   \n",
       "19232              Yes       CNG     2.0 Turbo  300000 km       4.00   \n",
       "19233              Yes    Petrol           2.4  161600 km       4.00   \n",
       "19234              Yes    Diesel             2  116365 km       4.00   \n",
       "19235              Yes    Diesel             2   51258 km       4.00   \n",
       "19236              Yes    Hybrid           2.4  186923 km       4.00   \n",
       "\n",
       "      Gear box type Drive wheels   Doors             Wheel   Color  Airbags  \n",
       "0         Automatic          4x4  04-May        Left wheel  Silver       12  \n",
       "1         Tiptronic          4x4  04-May        Left wheel   Black        8  \n",
       "2          Variator        Front  04-May  Right-hand drive   Black        2  \n",
       "3         Automatic          4x4  04-May        Left wheel   White        0  \n",
       "4         Automatic        Front  04-May        Left wheel  Silver        4  \n",
       "...             ...          ...     ...               ...     ...      ...  \n",
       "19232        Manual         Rear  02-Mar        Left wheel  Silver        5  \n",
       "19233     Tiptronic        Front  04-May        Left wheel     Red        8  \n",
       "19234     Automatic        Front  04-May        Left wheel    Grey        4  \n",
       "19235     Automatic        Front  04-May        Left wheel   Black        4  \n",
       "19236     Automatic        Front  04-May        Left wheel   White       12  \n",
       "\n",
       "[19237 rows x 18 columns]"
      ]
     },
     "execution_count": 2,
     "metadata": {},
     "output_type": "execute_result"
    }
   ],
   "source": [
    "df = pd.read_csv('car_price_prediction.csv')\n",
    "df"
   ]
  },
  {
   "cell_type": "markdown",
   "metadata": {},
   "source": [
    "sebelum melakukan eksplorasi data, saya mengubah tipe data dari kolom-kolom yang ada"
   ]
  },
  {
   "cell_type": "code",
   "execution_count": 3,
   "metadata": {},
   "outputs": [
    {
     "data": {
      "text/plain": [
       "array(['04-May', '02-Mar', '>5'], dtype=object)"
      ]
     },
     "execution_count": 3,
     "metadata": {},
     "output_type": "execute_result"
    }
   ],
   "source": [
    "df.Doors.unique()"
   ]
  },
  {
   "cell_type": "code",
   "execution_count": 4,
   "metadata": {},
   "outputs": [
    {
     "data": {
      "text/plain": [
       "Levy\n",
       "-       5819\n",
       "765      486\n",
       "891      461\n",
       "639      410\n",
       "640      405\n",
       "        ... \n",
       "3156       1\n",
       "2908       1\n",
       "1279       1\n",
       "1719       1\n",
       "1901       1\n",
       "Name: count, Length: 559, dtype: int64"
      ]
     },
     "execution_count": 4,
     "metadata": {},
     "output_type": "execute_result"
    }
   ],
   "source": [
    "df['Levy'].value_counts()"
   ]
  },
  {
   "cell_type": "markdown",
   "metadata": {},
   "source": [
    "pada kolom dooors saya mengubah value nya menjadi hanya angka saja dan pada kolom levy ada value \"-\" dimana akan saya ubah menjadi missing value"
   ]
  },
  {
   "cell_type": "code",
   "execution_count": 5,
   "metadata": {},
   "outputs": [],
   "source": [
    "df['Levy'] = df['Levy'].replace({'-' : None})\n",
    "df['Doors'] = df['Doors'].replace({'04-May' : 4,'02-Mar' : 2, '>5' : 5})"
   ]
  },
  {
   "cell_type": "code",
   "execution_count": 6,
   "metadata": {},
   "outputs": [
    {
     "data": {
      "text/plain": [
       "Levy\n",
       "765     486\n",
       "891     461\n",
       "639     410\n",
       "640     405\n",
       "1017    298\n",
       "       ... \n",
       "3156      1\n",
       "2908      1\n",
       "1279      1\n",
       "1719      1\n",
       "1901      1\n",
       "Name: count, Length: 558, dtype: int64"
      ]
     },
     "execution_count": 6,
     "metadata": {},
     "output_type": "execute_result"
    }
   ],
   "source": [
    "df['Levy'].value_counts()"
   ]
  },
  {
   "cell_type": "code",
   "execution_count": 7,
   "metadata": {},
   "outputs": [
    {
     "data": {
      "text/plain": [
       "array([4, 2, 5], dtype=int64)"
      ]
     },
     "execution_count": 7,
     "metadata": {},
     "output_type": "execute_result"
    }
   ],
   "source": [
    "df['Doors'].unique()"
   ]
  },
  {
   "cell_type": "markdown",
   "metadata": {},
   "source": [
    "value dari kedua kolom tersebut telah diubah"
   ]
  },
  {
   "cell_type": "code",
   "execution_count": 8,
   "metadata": {},
   "outputs": [
    {
     "name": "stdout",
     "output_type": "stream",
     "text": [
      "<class 'pandas.core.frame.DataFrame'>\n",
      "RangeIndex: 19237 entries, 0 to 19236\n",
      "Data columns (total 18 columns):\n",
      " #   Column            Non-Null Count  Dtype  \n",
      "---  ------            --------------  -----  \n",
      " 0   ID                19237 non-null  int64  \n",
      " 1   Price             19237 non-null  int64  \n",
      " 2   Levy              13418 non-null  object \n",
      " 3   Manufacturer      19237 non-null  object \n",
      " 4   Model             19237 non-null  object \n",
      " 5   Prod. year        19237 non-null  int64  \n",
      " 6   Category          19237 non-null  object \n",
      " 7   Leather interior  19237 non-null  object \n",
      " 8   Fuel type         19237 non-null  object \n",
      " 9   Engine volume     19237 non-null  object \n",
      " 10  Mileage           19237 non-null  object \n",
      " 11  Cylinders         19237 non-null  float64\n",
      " 12  Gear box type     19237 non-null  object \n",
      " 13  Drive wheels      19237 non-null  object \n",
      " 14  Doors             19237 non-null  int64  \n",
      " 15  Wheel             19237 non-null  object \n",
      " 16  Color             19237 non-null  object \n",
      " 17  Airbags           19237 non-null  int64  \n",
      "dtypes: float64(1), int64(5), object(12)\n",
      "memory usage: 2.6+ MB\n"
     ]
    }
   ],
   "source": [
    "df.info()"
   ]
  },
  {
   "cell_type": "markdown",
   "metadata": {},
   "source": [
    "selanjutnya saya mengubah tipe data dari kolom levy menjadi numerikal dikarenakan sebelumnnya ialah berbentuk string"
   ]
  },
  {
   "cell_type": "code",
   "execution_count": 9,
   "metadata": {},
   "outputs": [],
   "source": [
    "df['Levy'] = df['Levy'].astype('float64')"
   ]
  },
  {
   "cell_type": "markdown",
   "metadata": {},
   "source": [
    "pada kolom mileage ada gabungan jarak yaitu kilometer, disini saya akan menghapus satuan jaraknya sehingga kolom mileage dapat menjadi kolom numerikal"
   ]
  },
  {
   "cell_type": "code",
   "execution_count": 10,
   "metadata": {},
   "outputs": [
    {
     "data": {
      "text/plain": [
       "Mileage\n",
       "0 km         721\n",
       "200000 km    183\n",
       "150000 km    161\n",
       "160000 km    120\n",
       "100000 km    119\n",
       "            ... \n",
       "63083 km       1\n",
       "28750 km       1\n",
       "25077 km       1\n",
       "77452 km       1\n",
       "186923 km      1\n",
       "Name: count, Length: 7687, dtype: int64"
      ]
     },
     "execution_count": 10,
     "metadata": {},
     "output_type": "execute_result"
    }
   ],
   "source": [
    "df['Mileage'].value_counts()"
   ]
  },
  {
   "cell_type": "code",
   "execution_count": 11,
   "metadata": {},
   "outputs": [],
   "source": [
    "df['Mileage'] = df['Mileage'].str.split(' ').str[0]"
   ]
  },
  {
   "cell_type": "code",
   "execution_count": 12,
   "metadata": {},
   "outputs": [
    {
     "data": {
      "text/plain": [
       "Mileage\n",
       "0         721\n",
       "200000    183\n",
       "150000    161\n",
       "160000    120\n",
       "100000    119\n",
       "         ... \n",
       "63083       1\n",
       "28750       1\n",
       "25077       1\n",
       "77452       1\n",
       "186923      1\n",
       "Name: count, Length: 7687, dtype: int64"
      ]
     },
     "execution_count": 12,
     "metadata": {},
     "output_type": "execute_result"
    }
   ],
   "source": [
    "df['Mileage'].value_counts()"
   ]
  },
  {
   "cell_type": "code",
   "execution_count": 13,
   "metadata": {},
   "outputs": [],
   "source": [
    "df['Mileage'] = df['Mileage'].astype('float64')"
   ]
  },
  {
   "cell_type": "markdown",
   "metadata": {},
   "source": [
    "selanjutnya data pada kolom engine volume juga harusnya ialah berbentuk float tetapi dikarenakan ada kata turbo pada  kolom tersebut maka saya akan memisahkan nya menjadi 2 kolom sehingga kolom baru nya ialah Turbo yang merupakan kolom dengan tipe data boolean dan saya mengubah tipe data dari kolom engine volume menjadi float"
   ]
  },
  {
   "cell_type": "code",
   "execution_count": 14,
   "metadata": {},
   "outputs": [],
   "source": [
    "df['Turbo'] = df['Engine volume'].str.contains('Turbo')\n",
    "df['Engine volume'] = df['Engine volume'].str.slice(0,3)\n",
    "df['Engine volume'] = df['Engine volume'].astype('float64')"
   ]
  },
  {
   "cell_type": "code",
   "execution_count": 15,
   "metadata": {},
   "outputs": [],
   "source": [
    "df['Leather interior'] = df['Leather interior'].replace({'Yes' : True , 'No' : False})"
   ]
  },
  {
   "cell_type": "code",
   "execution_count": 16,
   "metadata": {},
   "outputs": [
    {
     "name": "stdout",
     "output_type": "stream",
     "text": [
      "<class 'pandas.core.frame.DataFrame'>\n",
      "RangeIndex: 19237 entries, 0 to 19236\n",
      "Data columns (total 19 columns):\n",
      " #   Column            Non-Null Count  Dtype  \n",
      "---  ------            --------------  -----  \n",
      " 0   ID                19237 non-null  int64  \n",
      " 1   Price             19237 non-null  int64  \n",
      " 2   Levy              13418 non-null  float64\n",
      " 3   Manufacturer      19237 non-null  object \n",
      " 4   Model             19237 non-null  object \n",
      " 5   Prod. year        19237 non-null  int64  \n",
      " 6   Category          19237 non-null  object \n",
      " 7   Leather interior  19237 non-null  bool   \n",
      " 8   Fuel type         19237 non-null  object \n",
      " 9   Engine volume     19237 non-null  float64\n",
      " 10  Mileage           19237 non-null  float64\n",
      " 11  Cylinders         19237 non-null  float64\n",
      " 12  Gear box type     19237 non-null  object \n",
      " 13  Drive wheels      19237 non-null  object \n",
      " 14  Doors             19237 non-null  int64  \n",
      " 15  Wheel             19237 non-null  object \n",
      " 16  Color             19237 non-null  object \n",
      " 17  Airbags           19237 non-null  int64  \n",
      " 18  Turbo             19237 non-null  bool   \n",
      "dtypes: bool(2), float64(4), int64(5), object(8)\n",
      "memory usage: 2.5+ MB\n"
     ]
    }
   ],
   "source": [
    "df.info()"
   ]
  },
  {
   "cell_type": "markdown",
   "metadata": {},
   "source": [
    "tipe data yang akan digunakan telah sesuai dengan yang diharapkan"
   ]
  },
  {
   "cell_type": "markdown",
   "metadata": {},
   "source": [
    "# Exploratory Data Analysis ( EDA )"
   ]
  },
  {
   "cell_type": "code",
   "execution_count": 17,
   "metadata": {},
   "outputs": [
    {
     "data": {
      "text/plain": [
       "<Axes: xlabel='Prod. year', ylabel='Count'>"
      ]
     },
     "execution_count": 17,
     "metadata": {},
     "output_type": "execute_result"
    },
    {
     "data": {
      "image/png": "[encoded data removed]",
      "text/plain": [
       "<Figure size 640x480 with 1 Axes>"
      ]
     },
     "metadata": {},
     "output_type": "display_data"
    }
   ],
   "source": [
    "sns.histplot(df['Prod. year'])"
   ]
  },
  {
   "cell_type": "markdown",
   "metadata": {},
   "source": [
    "mobil yang ada pada dataset ini kebanyakan diproduksi pada rentang tahun 2010-2020, tetapi ada juga mobil-mobil tua yang di produksi pada tahun 1900-an"
   ]
  },
  {
   "cell_type": "code",
   "execution_count": 18,
   "metadata": {},
   "outputs": [
    {
     "data": {
      "text/plain": [
       "<Axes: >"
      ]
     },
     "execution_count": 18,
     "metadata": {},
     "output_type": "execute_result"
    },
    {
     "data": {
      "image/png": "[encoded data removed]",
      "text/plain": [
       "<Figure size 640x480 with 1 Axes>"
      ]
     },
     "metadata": {},
     "output_type": "display_data"
    }
   ],
   "source": [
    "df['Price'].hist(bins=25)"
   ]
  },
  {
   "cell_type": "markdown",
   "metadata": {},
   "source": [
    "plot diatas menunjukkan bahwa harga mobil berkisar di antara 0-150 ribu dollar tetapi ada harga yang tidak normal bernilai sekitar 25 juta dollar"
   ]
  },
  {
   "cell_type": "code",
   "execution_count": 19,
   "metadata": {},
   "outputs": [
    {
     "data": {
      "text/html": [
       "<div>\n",
       "<style scoped>\n",
       "    .dataframe tbody tr th:only-of-type {\n",
       "        vertical-align: middle;\n",
       "    }\n",
       "\n",
       "    .dataframe tbody tr th {\n",
       "        vertical-align: top;\n",
       "    }\n",
       "\n",
       "    .dataframe thead th {\n",
       "        text-align: right;\n",
       "    }\n",
       "</style>\n",
       "<table border=\"1\" class=\"dataframe\">\n",
       "  <thead>\n",
       "    <tr style=\"text-align: right;\">\n",
       "      <th></th>\n",
       "      <th>ID</th>\n",
       "      <th>Price</th>\n",
       "      <th>Levy</th>\n",
       "      <th>Manufacturer</th>\n",
       "      <th>Model</th>\n",
       "      <th>Prod. year</th>\n",
       "      <th>Category</th>\n",
       "      <th>Leather interior</th>\n",
       "      <th>Fuel type</th>\n",
       "      <th>Engine volume</th>\n",
       "      <th>Mileage</th>\n",
       "      <th>Cylinders</th>\n",
       "      <th>Gear box type</th>\n",
       "      <th>Drive wheels</th>\n",
       "      <th>Doors</th>\n",
       "      <th>Wheel</th>\n",
       "      <th>Color</th>\n",
       "      <th>Airbags</th>\n",
       "      <th>Turbo</th>\n",
       "    </tr>\n",
       "  </thead>\n",
       "  <tbody>\n",
       "    <tr>\n",
       "      <th>16983</th>\n",
       "      <td>45812886</td>\n",
       "      <td>26307500</td>\n",
       "      <td>NaN</td>\n",
       "      <td>OPEL</td>\n",
       "      <td>Combo</td>\n",
       "      <td>1999</td>\n",
       "      <td>Goods wagon</td>\n",
       "      <td>False</td>\n",
       "      <td>Diesel</td>\n",
       "      <td>1.70</td>\n",
       "      <td>99999.00</td>\n",
       "      <td>4.00</td>\n",
       "      <td>Manual</td>\n",
       "      <td>Front</td>\n",
       "      <td>2</td>\n",
       "      <td>Left wheel</td>\n",
       "      <td>Blue</td>\n",
       "      <td>0</td>\n",
       "      <td>False</td>\n",
       "    </tr>\n",
       "  </tbody>\n",
       "</table>\n",
       "</div>"
      ],
      "text/plain": [
       "             ID     Price  Levy Manufacturer  Model  Prod. year     Category   \n",
       "16983  45812886  26307500   NaN         OPEL  Combo        1999  Goods wagon  \\\n",
       "\n",
       "       Leather interior Fuel type  Engine volume  Mileage  Cylinders   \n",
       "16983             False    Diesel           1.70 99999.00       4.00  \\\n",
       "\n",
       "      Gear box type Drive wheels  Doors       Wheel Color  Airbags  Turbo  \n",
       "16983        Manual        Front      2  Left wheel  Blue        0  False  "
      ]
     },
     "execution_count": 19,
     "metadata": {},
     "output_type": "execute_result"
    }
   ],
   "source": [
    "df[df.Price == df.Price.max()]"
   ]
  },
  {
   "cell_type": "markdown",
   "metadata": {},
   "source": [
    "dan benar saja ternyata ada data yang tidak normal bernilai 26 juta dollar dimana seharusnya mobil jenis ini hanya berkisar di harga 5-10 ribu dollar"
   ]
  },
  {
   "cell_type": "code",
   "execution_count": 20,
   "metadata": {},
   "outputs": [
    {
     "data": {
      "text/plain": [
       "<Axes: xlabel='Fuel type', ylabel='count'>"
      ]
     },
     "execution_count": 20,
     "metadata": {},
     "output_type": "execute_result"
    },
    {
     "data": {
      "image/png": "[encoded data removed]",
      "text/plain": [
       "<Figure size 640x480 with 1 Axes>"
      ]
     },
     "metadata": {},
     "output_type": "display_data"
    }
   ],
   "source": [
    "sns.countplot(data=df,x='Fuel type')"
   ]
  },
  {
   "cell_type": "markdown",
   "metadata": {},
   "source": [
    "sebagian besar mobil disini masih menggunakan petrol sebagai bahan bakar nya"
   ]
  },
  {
   "cell_type": "code",
   "execution_count": 21,
   "metadata": {},
   "outputs": [
    {
     "data": {
      "text/plain": [
       "<Axes: xlabel='Category', ylabel='count'>"
      ]
     },
     "execution_count": 21,
     "metadata": {},
     "output_type": "execute_result"
    },
    {
     "data": {
      "image/png": "[encoded data removed]",
      "text/plain": [
       "<Figure size 1600x500 with 1 Axes>"
      ]
     },
     "metadata": {},
     "output_type": "display_data"
    }
   ],
   "source": [
    "plt.figure(figsize=(16,5))\n",
    "sns.countplot(x='Category',data=df)"
   ]
  },
  {
   "cell_type": "markdown",
   "metadata": {},
   "source": [
    "kategori mobil terbanyak ialah sedan, jeep lalu diikuti oleh hatchback, untuk yang lain jumlah nya tidak terlalu banyak"
   ]
  },
  {
   "cell_type": "code",
   "execution_count": 22,
   "metadata": {},
   "outputs": [
    {
     "data": {
      "text/plain": [
       "<Axes: xlabel='Airbags', ylabel='count'>"
      ]
     },
     "execution_count": 22,
     "metadata": {},
     "output_type": "execute_result"
    },
    {
     "data": {
      "image/png": "[encoded data removed]",
      "text/plain": [
       "<Figure size 1600x500 with 1 Axes>"
      ]
     },
     "metadata": {},
     "output_type": "display_data"
    }
   ],
   "source": [
    "plt.figure(figsize=(16,5))\n",
    "sns.countplot(x='Airbags',data=df)"
   ]
  },
  {
   "cell_type": "markdown",
   "metadata": {},
   "source": [
    "rata-rata mobil memiliki 4 atau 12 airbags"
   ]
  },
  {
   "cell_type": "code",
   "execution_count": 23,
   "metadata": {},
   "outputs": [
    {
     "data": {
      "text/plain": [
       "Manufacturer\n",
       "HYUNDAI          3769\n",
       "TOYOTA           3662\n",
       "MERCEDES-BENZ    2076\n",
       "FORD             1111\n",
       "CHEVROLET        1069\n",
       "BMW              1049\n",
       "LEXUS             982\n",
       "HONDA             977\n",
       "NISSAN            660\n",
       "VOLKSWAGEN        579\n",
       "Name: count, dtype: int64"
      ]
     },
     "execution_count": 23,
     "metadata": {},
     "output_type": "execute_result"
    }
   ],
   "source": [
    "df['Manufacturer'].value_counts()[:10]"
   ]
  },
  {
   "cell_type": "markdown",
   "metadata": {},
   "source": [
    "disini hyundai dan toyota ialah manufaktur yang data nya paling banyak ada di dataset"
   ]
  },
  {
   "cell_type": "code",
   "execution_count": 24,
   "metadata": {},
   "outputs": [
    {
     "data": {
      "text/plain": [
       "Fuel type\n",
       "CNG               7527.00\n",
       "Diesel           20489.50\n",
       "Hybrid           10036.00\n",
       "Hydrogen         20385.00\n",
       "LPG              11604.00\n",
       "Petrol           12858.00\n",
       "Plug-in Hybrid   22737.00\n",
       "Name: Price, dtype: float64"
      ]
     },
     "execution_count": 24,
     "metadata": {},
     "output_type": "execute_result"
    }
   ],
   "source": [
    "df.groupby('Fuel type')['Price'].median()"
   ]
  },
  {
   "cell_type": "markdown",
   "metadata": {},
   "source": [
    "disini saya mengecek apakah jenis bahan bakar berperan penting terhadap harga mobil, dan dapat dilihat pada mobil plug-in hybrid harga nya paling mahal jika dibandingkan dengan yang lain"
   ]
  },
  {
   "cell_type": "code",
   "execution_count": 25,
   "metadata": {},
   "outputs": [
    {
     "data": {
      "text/plain": [
       "Doors  Drive wheels\n",
       "2      4x4               113\n",
       "       Front             295\n",
       "       Rear              369\n",
       "4      4x4              3907\n",
       "       Front           12521\n",
       "       Rear             1904\n",
       "5      4x4                38\n",
       "       Front              58\n",
       "       Rear               32\n",
       "Name: ID, dtype: int64"
      ]
     },
     "execution_count": 25,
     "metadata": {},
     "output_type": "execute_result"
    }
   ],
   "source": [
    "df.groupby(['Doors','Drive wheels'])['ID'].count()"
   ]
  },
  {
   "cell_type": "markdown",
   "metadata": {},
   "source": [
    "mobil yang paling banyak ada di dataset ini ialah mobil dengan 4 pintu dan penggerak roda depan"
   ]
  },
  {
   "cell_type": "code",
   "execution_count": 187,
   "metadata": {},
   "outputs": [
    {
     "data": {
      "text/plain": [
       "Turbo\n",
       "False   12276.50\n",
       "True    19444.00\n",
       "Name: Price, dtype: float64"
      ]
     },
     "execution_count": 187,
     "metadata": {},
     "output_type": "execute_result"
    }
   ],
   "source": [
    "df.groupby('Turbo')['Price'].median()"
   ]
  },
  {
   "cell_type": "code",
   "execution_count": 188,
   "metadata": {},
   "outputs": [
    {
     "data": {
      "text/plain": [
       "Leather interior\n",
       "False   11604.00\n",
       "True    14113.00\n",
       "Name: Price, dtype: float64"
      ]
     },
     "execution_count": 188,
     "metadata": {},
     "output_type": "execute_result"
    }
   ],
   "source": [
    "df.groupby('Leather interior')['Price'].median()"
   ]
  },
  {
   "cell_type": "markdown",
   "metadata": {},
   "source": [
    "mobil dengan mesin yang dilengkapi turbo harganya cenderung lebih tinggi daripada yang tidak ada turbonya. begitu juga dengan interior yang menggunakan kulit. harga nya relatif lebih tinggi daripada yang tidak menggunakan kulit"
   ]
  },
  {
   "cell_type": "code",
   "execution_count": 212,
   "metadata": {},
   "outputs": [
    {
     "data": {
      "text/plain": [
       "<Axes: >"
      ]
     },
     "execution_count": 212,
     "metadata": {},
     "output_type": "execute_result"
    },
    {
     "data": {
      "image/png": "[encoded data removed]",
      "text/plain": [
       "<Figure size 1500x500 with 2 Axes>"
      ]
     },
     "metadata": {},
     "output_type": "display_data"
    }
   ],
   "source": [
    "plt.figure(figsize=(15,5))\n",
    "b = df.corr(numeric_only=True)\n",
    "sns.heatmap(b,annot=True)"
   ]
  },
  {
   "cell_type": "markdown",
   "metadata": {},
   "source": [
    "dikarenakan semua fitur numeric tidak ada yang korelasi nya tinggi dengan harga, saya akan menggunakan semua kolom yang ada"
   ]
  },
  {
   "cell_type": "markdown",
   "metadata": {},
   "source": [
    "# Preprocessing Data"
   ]
  },
  {
   "cell_type": "markdown",
   "metadata": {},
   "source": [
    "## Splitting Feature & Target"
   ]
  },
  {
   "cell_type": "code",
   "execution_count": 28,
   "metadata": {},
   "outputs": [],
   "source": [
    "X = df.drop(['ID','Price'],axis=1) # Memisahkan kolom fitur dan target\n",
    "y = df['Price']"
   ]
  },
  {
   "cell_type": "code",
   "execution_count": 136,
   "metadata": {},
   "outputs": [
    {
     "name": "stdout",
     "output_type": "stream",
     "text": [
      "Train Size :  (15389, 17)\n",
      "Test Size :  (3848, 17)\n"
     ]
    },
    {
     "data": {
      "text/html": [
       "<div>\n",
       "<style scoped>\n",
       "    .dataframe tbody tr th:only-of-type {\n",
       "        vertical-align: middle;\n",
       "    }\n",
       "\n",
       "    .dataframe tbody tr th {\n",
       "        vertical-align: top;\n",
       "    }\n",
       "\n",
       "    .dataframe thead th {\n",
       "        text-align: right;\n",
       "    }\n",
       "</style>\n",
       "<table border=\"1\" class=\"dataframe\">\n",
       "  <thead>\n",
       "    <tr style=\"text-align: right;\">\n",
       "      <th></th>\n",
       "      <th>Levy</th>\n",
       "      <th>Manufacturer</th>\n",
       "      <th>Model</th>\n",
       "      <th>Prod. year</th>\n",
       "      <th>Category</th>\n",
       "      <th>Leather interior</th>\n",
       "      <th>Fuel type</th>\n",
       "      <th>Engine volume</th>\n",
       "      <th>Mileage</th>\n",
       "      <th>Cylinders</th>\n",
       "      <th>Gear box type</th>\n",
       "      <th>Drive wheels</th>\n",
       "      <th>Doors</th>\n",
       "      <th>Wheel</th>\n",
       "      <th>Color</th>\n",
       "      <th>Airbags</th>\n",
       "      <th>Turbo</th>\n",
       "    </tr>\n",
       "  </thead>\n",
       "  <tbody>\n",
       "    <tr>\n",
       "      <th>9992</th>\n",
       "      <td>891.00</td>\n",
       "      <td>HYUNDAI</td>\n",
       "      <td>Elantra</td>\n",
       "      <td>2016</td>\n",
       "      <td>Hatchback</td>\n",
       "      <td>True</td>\n",
       "      <td>Petrol</td>\n",
       "      <td>2.00</td>\n",
       "      <td>47074.00</td>\n",
       "      <td>4.00</td>\n",
       "      <td>Automatic</td>\n",
       "      <td>Front</td>\n",
       "      <td>4</td>\n",
       "      <td>Left wheel</td>\n",
       "      <td>Silver</td>\n",
       "      <td>12</td>\n",
       "      <td>False</td>\n",
       "    </tr>\n",
       "    <tr>\n",
       "      <th>13537</th>\n",
       "      <td>NaN</td>\n",
       "      <td>BMW</td>\n",
       "      <td>320</td>\n",
       "      <td>1994</td>\n",
       "      <td>Coupe</td>\n",
       "      <td>True</td>\n",
       "      <td>Petrol</td>\n",
       "      <td>2.00</td>\n",
       "      <td>285000.00</td>\n",
       "      <td>6.00</td>\n",
       "      <td>Manual</td>\n",
       "      <td>Rear</td>\n",
       "      <td>2</td>\n",
       "      <td>Left wheel</td>\n",
       "      <td>Silver</td>\n",
       "      <td>4</td>\n",
       "      <td>False</td>\n",
       "    </tr>\n",
       "    <tr>\n",
       "      <th>18661</th>\n",
       "      <td>NaN</td>\n",
       "      <td>TOYOTA</td>\n",
       "      <td>Aqua</td>\n",
       "      <td>2014</td>\n",
       "      <td>Sedan</td>\n",
       "      <td>False</td>\n",
       "      <td>Hybrid</td>\n",
       "      <td>1.50</td>\n",
       "      <td>110000.00</td>\n",
       "      <td>4.00</td>\n",
       "      <td>Automatic</td>\n",
       "      <td>Front</td>\n",
       "      <td>4</td>\n",
       "      <td>Right-hand drive</td>\n",
       "      <td>Orange</td>\n",
       "      <td>0</td>\n",
       "      <td>False</td>\n",
       "    </tr>\n",
       "    <tr>\n",
       "      <th>3887</th>\n",
       "      <td>1327.00</td>\n",
       "      <td>TOYOTA</td>\n",
       "      <td>Camry</td>\n",
       "      <td>2018</td>\n",
       "      <td>Jeep</td>\n",
       "      <td>True</td>\n",
       "      <td>Petrol</td>\n",
       "      <td>2.50</td>\n",
       "      <td>23333.00</td>\n",
       "      <td>4.00</td>\n",
       "      <td>Automatic</td>\n",
       "      <td>Front</td>\n",
       "      <td>4</td>\n",
       "      <td>Left wheel</td>\n",
       "      <td>Silver</td>\n",
       "      <td>12</td>\n",
       "      <td>False</td>\n",
       "    </tr>\n",
       "    <tr>\n",
       "      <th>1889</th>\n",
       "      <td>NaN</td>\n",
       "      <td>HYUNDAI</td>\n",
       "      <td>Accent</td>\n",
       "      <td>2013</td>\n",
       "      <td>Hatchback</td>\n",
       "      <td>False</td>\n",
       "      <td>Petrol</td>\n",
       "      <td>1.60</td>\n",
       "      <td>136000.00</td>\n",
       "      <td>4.00</td>\n",
       "      <td>Tiptronic</td>\n",
       "      <td>Front</td>\n",
       "      <td>4</td>\n",
       "      <td>Left wheel</td>\n",
       "      <td>White</td>\n",
       "      <td>6</td>\n",
       "      <td>False</td>\n",
       "    </tr>\n",
       "    <tr>\n",
       "      <th>...</th>\n",
       "      <td>...</td>\n",
       "      <td>...</td>\n",
       "      <td>...</td>\n",
       "      <td>...</td>\n",
       "      <td>...</td>\n",
       "      <td>...</td>\n",
       "      <td>...</td>\n",
       "      <td>...</td>\n",
       "      <td>...</td>\n",
       "      <td>...</td>\n",
       "      <td>...</td>\n",
       "      <td>...</td>\n",
       "      <td>...</td>\n",
       "      <td>...</td>\n",
       "      <td>...</td>\n",
       "      <td>...</td>\n",
       "      <td>...</td>\n",
       "    </tr>\n",
       "    <tr>\n",
       "      <th>6995</th>\n",
       "      <td>777.00</td>\n",
       "      <td>HYUNDAI</td>\n",
       "      <td>H1</td>\n",
       "      <td>2014</td>\n",
       "      <td>Minivan</td>\n",
       "      <td>True</td>\n",
       "      <td>Diesel</td>\n",
       "      <td>2.50</td>\n",
       "      <td>196654.00</td>\n",
       "      <td>4.00</td>\n",
       "      <td>Automatic</td>\n",
       "      <td>Front</td>\n",
       "      <td>4</td>\n",
       "      <td>Left wheel</td>\n",
       "      <td>White</td>\n",
       "      <td>4</td>\n",
       "      <td>False</td>\n",
       "    </tr>\n",
       "    <tr>\n",
       "      <th>10376</th>\n",
       "      <td>585.00</td>\n",
       "      <td>TOYOTA</td>\n",
       "      <td>Prius plug-in</td>\n",
       "      <td>2013</td>\n",
       "      <td>Hatchback</td>\n",
       "      <td>False</td>\n",
       "      <td>Plug-in Hybrid</td>\n",
       "      <td>1.80</td>\n",
       "      <td>120681.00</td>\n",
       "      <td>4.00</td>\n",
       "      <td>Automatic</td>\n",
       "      <td>Front</td>\n",
       "      <td>4</td>\n",
       "      <td>Left wheel</td>\n",
       "      <td>White</td>\n",
       "      <td>8</td>\n",
       "      <td>False</td>\n",
       "    </tr>\n",
       "    <tr>\n",
       "      <th>2181</th>\n",
       "      <td>NaN</td>\n",
       "      <td>MITSUBISHI</td>\n",
       "      <td>L 200</td>\n",
       "      <td>1998</td>\n",
       "      <td>Pickup</td>\n",
       "      <td>False</td>\n",
       "      <td>Diesel</td>\n",
       "      <td>2.50</td>\n",
       "      <td>0.00</td>\n",
       "      <td>4.00</td>\n",
       "      <td>Manual</td>\n",
       "      <td>4x4</td>\n",
       "      <td>4</td>\n",
       "      <td>Left wheel</td>\n",
       "      <td>Blue</td>\n",
       "      <td>2</td>\n",
       "      <td>True</td>\n",
       "    </tr>\n",
       "    <tr>\n",
       "      <th>18417</th>\n",
       "      <td>639.00</td>\n",
       "      <td>CHEVROLET</td>\n",
       "      <td>Malibu</td>\n",
       "      <td>2014</td>\n",
       "      <td>Sedan</td>\n",
       "      <td>True</td>\n",
       "      <td>Petrol</td>\n",
       "      <td>2.00</td>\n",
       "      <td>115131.00</td>\n",
       "      <td>4.00</td>\n",
       "      <td>Automatic</td>\n",
       "      <td>Front</td>\n",
       "      <td>4</td>\n",
       "      <td>Left wheel</td>\n",
       "      <td>Black</td>\n",
       "      <td>4</td>\n",
       "      <td>False</td>\n",
       "    </tr>\n",
       "    <tr>\n",
       "      <th>4547</th>\n",
       "      <td>NaN</td>\n",
       "      <td>TOYOTA</td>\n",
       "      <td>Prius</td>\n",
       "      <td>2008</td>\n",
       "      <td>Sedan</td>\n",
       "      <td>False</td>\n",
       "      <td>Hybrid</td>\n",
       "      <td>1.50</td>\n",
       "      <td>2700.00</td>\n",
       "      <td>4.00</td>\n",
       "      <td>Variator</td>\n",
       "      <td>Front</td>\n",
       "      <td>4</td>\n",
       "      <td>Left wheel</td>\n",
       "      <td>Brown</td>\n",
       "      <td>6</td>\n",
       "      <td>False</td>\n",
       "    </tr>\n",
       "  </tbody>\n",
       "</table>\n",
       "<p>15389 rows × 17 columns</p>\n",
       "</div>"
      ],
      "text/plain": [
       "         Levy Manufacturer          Model  Prod. year   Category   \n",
       "9992   891.00      HYUNDAI        Elantra        2016  Hatchback  \\\n",
       "13537     NaN          BMW            320        1994      Coupe   \n",
       "18661     NaN       TOYOTA           Aqua        2014      Sedan   \n",
       "3887  1327.00       TOYOTA          Camry        2018       Jeep   \n",
       "1889      NaN      HYUNDAI         Accent        2013  Hatchback   \n",
       "...       ...          ...            ...         ...        ...   \n",
       "6995   777.00      HYUNDAI             H1        2014    Minivan   \n",
       "10376  585.00       TOYOTA  Prius plug-in        2013  Hatchback   \n",
       "2181      NaN   MITSUBISHI          L 200        1998     Pickup   \n",
       "18417  639.00    CHEVROLET         Malibu        2014      Sedan   \n",
       "4547      NaN       TOYOTA          Prius        2008      Sedan   \n",
       "\n",
       "       Leather interior       Fuel type  Engine volume   Mileage  Cylinders   \n",
       "9992               True          Petrol           2.00  47074.00       4.00  \\\n",
       "13537              True          Petrol           2.00 285000.00       6.00   \n",
       "18661             False          Hybrid           1.50 110000.00       4.00   \n",
       "3887               True          Petrol           2.50  23333.00       4.00   \n",
       "1889              False          Petrol           1.60 136000.00       4.00   \n",
       "...                 ...             ...            ...       ...        ...   \n",
       "6995               True          Diesel           2.50 196654.00       4.00   \n",
       "10376             False  Plug-in Hybrid           1.80 120681.00       4.00   \n",
       "2181              False          Diesel           2.50      0.00       4.00   \n",
       "18417              True          Petrol           2.00 115131.00       4.00   \n",
       "4547              False          Hybrid           1.50   2700.00       4.00   \n",
       "\n",
       "      Gear box type Drive wheels  Doors             Wheel   Color  Airbags   \n",
       "9992      Automatic        Front      4        Left wheel  Silver       12  \\\n",
       "13537        Manual         Rear      2        Left wheel  Silver        4   \n",
       "18661     Automatic        Front      4  Right-hand drive  Orange        0   \n",
       "3887      Automatic        Front      4        Left wheel  Silver       12   \n",
       "1889      Tiptronic        Front      4        Left wheel   White        6   \n",
       "...             ...          ...    ...               ...     ...      ...   \n",
       "6995      Automatic        Front      4        Left wheel   White        4   \n",
       "10376     Automatic        Front      4        Left wheel   White        8   \n",
       "2181         Manual          4x4      4        Left wheel    Blue        2   \n",
       "18417     Automatic        Front      4        Left wheel   Black        4   \n",
       "4547       Variator        Front      4        Left wheel   Brown        6   \n",
       "\n",
       "       Turbo  \n",
       "9992   False  \n",
       "13537  False  \n",
       "18661  False  \n",
       "3887   False  \n",
       "1889   False  \n",
       "...      ...  \n",
       "6995   False  \n",
       "10376  False  \n",
       "2181    True  \n",
       "18417  False  \n",
       "4547   False  \n",
       "\n",
       "[15389 rows x 17 columns]"
      ]
     },
     "execution_count": 136,
     "metadata": {},
     "output_type": "execute_result"
    }
   ],
   "source": [
    "X_train, X_test, y_train, y_test = train_test_split(X, y, test_size=0.2, random_state=8) # Splitting train & test set\n",
    "print('Train Size : ', X_train.shape)\n",
    "print('Test Size : ', X_test.shape)\n",
    "X_train"
   ]
  },
  {
   "cell_type": "markdown",
   "metadata": {},
   "source": [
    "sebelum masuk ke dalam proses lanjutan, saya ingin mengecek apakah ada duplikasi data , karena pada model regresi seperti linear regression rentan terhadap adanya duplikat data yang hanya akan membuat proses komputasi menjadi lebih lama tanpa memberi data baru, dan juga dapat membuat model menjadi bias"
   ]
  },
  {
   "cell_type": "code",
   "execution_count": 138,
   "metadata": {},
   "outputs": [
    {
     "data": {
      "text/plain": [
       "False    12598\n",
       "True      2791\n",
       "Name: count, dtype: int64"
      ]
     },
     "execution_count": 138,
     "metadata": {},
     "output_type": "execute_result"
    }
   ],
   "source": [
    "X_train.duplicated().value_counts() # melihat apakah ada duplikasi data"
   ]
  },
  {
   "cell_type": "markdown",
   "metadata": {},
   "source": [
    "ternyata ada data duplikat nya. selanjutnya saya menghapus nya pada data train termasuk fitur dan target nya"
   ]
  },
  {
   "cell_type": "code",
   "execution_count": 139,
   "metadata": {},
   "outputs": [],
   "source": [
    "y_train_clean = y_train.drop(index=X_train[X_train.duplicated() == True].index)"
   ]
  },
  {
   "cell_type": "code",
   "execution_count": 140,
   "metadata": {},
   "outputs": [
    {
     "data": {
      "text/plain": [
       "(12598, 17)"
      ]
     },
     "execution_count": 140,
     "metadata": {},
     "output_type": "execute_result"
    }
   ],
   "source": [
    "X_train_clean = X_train.drop_duplicates()\n",
    "X_train_clean.shape"
   ]
  },
  {
   "cell_type": "code",
   "execution_count": 141,
   "metadata": {},
   "outputs": [
    {
     "data": {
      "text/plain": [
       "(12598,)"
      ]
     },
     "execution_count": 141,
     "metadata": {},
     "output_type": "execute_result"
    }
   ],
   "source": [
    "y_train_clean.shape"
   ]
  },
  {
   "cell_type": "code",
   "execution_count": 142,
   "metadata": {},
   "outputs": [
    {
     "data": {
      "text/html": [
       "<div>\n",
       "<style scoped>\n",
       "    .dataframe tbody tr th:only-of-type {\n",
       "        vertical-align: middle;\n",
       "    }\n",
       "\n",
       "    .dataframe tbody tr th {\n",
       "        vertical-align: top;\n",
       "    }\n",
       "\n",
       "    .dataframe thead th {\n",
       "        text-align: right;\n",
       "    }\n",
       "</style>\n",
       "<table border=\"1\" class=\"dataframe\">\n",
       "  <thead>\n",
       "    <tr style=\"text-align: right;\">\n",
       "      <th></th>\n",
       "      <th>Levy</th>\n",
       "      <th>Prod. year</th>\n",
       "      <th>Engine volume</th>\n",
       "      <th>Mileage</th>\n",
       "      <th>Cylinders</th>\n",
       "      <th>Doors</th>\n",
       "      <th>Airbags</th>\n",
       "    </tr>\n",
       "  </thead>\n",
       "  <tbody>\n",
       "    <tr>\n",
       "      <th>count</th>\n",
       "      <td>7992.00</td>\n",
       "      <td>12598.00</td>\n",
       "      <td>12598.00</td>\n",
       "      <td>12598.00</td>\n",
       "      <td>12598.00</td>\n",
       "      <td>12598.00</td>\n",
       "      <td>12598.00</td>\n",
       "    </tr>\n",
       "    <tr>\n",
       "      <th>mean</th>\n",
       "      <td>883.54</td>\n",
       "      <td>2010.47</td>\n",
       "      <td>2.22</td>\n",
       "      <td>1749100.67</td>\n",
       "      <td>4.48</td>\n",
       "      <td>3.91</td>\n",
       "      <td>6.55</td>\n",
       "    </tr>\n",
       "    <tr>\n",
       "      <th>std</th>\n",
       "      <td>477.95</td>\n",
       "      <td>6.05</td>\n",
       "      <td>0.81</td>\n",
       "      <td>53453737.02</td>\n",
       "      <td>1.13</td>\n",
       "      <td>0.44</td>\n",
       "      <td>4.06</td>\n",
       "    </tr>\n",
       "    <tr>\n",
       "      <th>min</th>\n",
       "      <td>87.00</td>\n",
       "      <td>1939.00</td>\n",
       "      <td>0.00</td>\n",
       "      <td>0.00</td>\n",
       "      <td>1.00</td>\n",
       "      <td>2.00</td>\n",
       "      <td>0.00</td>\n",
       "    </tr>\n",
       "    <tr>\n",
       "      <th>25%</th>\n",
       "      <td>640.00</td>\n",
       "      <td>2008.00</td>\n",
       "      <td>1.70</td>\n",
       "      <td>67242.75</td>\n",
       "      <td>4.00</td>\n",
       "      <td>4.00</td>\n",
       "      <td>4.00</td>\n",
       "    </tr>\n",
       "    <tr>\n",
       "      <th>50%</th>\n",
       "      <td>779.00</td>\n",
       "      <td>2012.00</td>\n",
       "      <td>2.00</td>\n",
       "      <td>121000.00</td>\n",
       "      <td>4.00</td>\n",
       "      <td>4.00</td>\n",
       "      <td>6.00</td>\n",
       "    </tr>\n",
       "    <tr>\n",
       "      <th>75%</th>\n",
       "      <td>1018.00</td>\n",
       "      <td>2014.00</td>\n",
       "      <td>2.50</td>\n",
       "      <td>180000.00</td>\n",
       "      <td>4.00</td>\n",
       "      <td>4.00</td>\n",
       "      <td>12.00</td>\n",
       "    </tr>\n",
       "    <tr>\n",
       "      <th>max</th>\n",
       "      <td>11714.00</td>\n",
       "      <td>2020.00</td>\n",
       "      <td>20.00</td>\n",
       "      <td>2147483647.00</td>\n",
       "      <td>16.00</td>\n",
       "      <td>5.00</td>\n",
       "      <td>16.00</td>\n",
       "    </tr>\n",
       "  </tbody>\n",
       "</table>\n",
       "</div>"
      ],
      "text/plain": [
       "          Levy  Prod. year  Engine volume       Mileage  Cylinders    Doors   \n",
       "count  7992.00    12598.00       12598.00      12598.00   12598.00 12598.00  \\\n",
       "mean    883.54     2010.47           2.22    1749100.67       4.48     3.91   \n",
       "std     477.95        6.05           0.81   53453737.02       1.13     0.44   \n",
       "min      87.00     1939.00           0.00          0.00       1.00     2.00   \n",
       "25%     640.00     2008.00           1.70      67242.75       4.00     4.00   \n",
       "50%     779.00     2012.00           2.00     121000.00       4.00     4.00   \n",
       "75%    1018.00     2014.00           2.50     180000.00       4.00     4.00   \n",
       "max   11714.00     2020.00          20.00 2147483647.00      16.00     5.00   \n",
       "\n",
       "       Airbags  \n",
       "count 12598.00  \n",
       "mean      6.55  \n",
       "std       4.06  \n",
       "min       0.00  \n",
       "25%       4.00  \n",
       "50%       6.00  \n",
       "75%      12.00  \n",
       "max      16.00  "
      ]
     },
     "execution_count": 142,
     "metadata": {},
     "output_type": "execute_result"
    }
   ],
   "source": [
    "X_train_clean.describe() #Melihat Preview dari data numerikal"
   ]
  },
  {
   "cell_type": "markdown",
   "metadata": {},
   "source": [
    "# Pipeline & Model Training"
   ]
  },
  {
   "cell_type": "markdown",
   "metadata": {},
   "source": [
    "pada pipeline ini saya bagi menjadi 2 yaitu pipeline yang berisikan proses penyiapan data sebelum digabung dengan pendefinisian model nya\n",
    "\n",
    "    untuk preprocessing nya, saya menghandle missing value dengan cara melakukan imputasi menggunakan KNNimputer. KNNImputer adalah algoritma imputasi yang digunakan untuk mengisi nilai yang hilang (missing values) dalam dataset menggunakan metode K-Nearest Neighbors (K-NN). Algoritma ini bekerja dengan menemukan K tetangga terdekat dari setiap sampel dengan data yang lengkap (non-missing) dan menggunakan nilai dari tetangga-tetangga tersebut untuk menggantikan nilai yang hilang dalam sampel tersebut.\n",
    "\n",
    "    selanjutnya saya menghandle outlier pada kolom Levy dan Mileage dengan menggunakan Winsorizer. Winsorizer adalah teknik untuk mengatasi nilai ekstrem (outliers) dalam data dengan cara membatasi atau memangkas nilai-nilai yang berada di luar batas tertentu. Setelah batas atas dan batas bawah ditentukan, nilai-nilai di luar batas tersebut akan dipangkas atau dibatasi menjadi nilai batas atas atau batas bawah, sesuai dengan metode Winsorizer yang digunakan.\n",
    "\n",
    "    untuk kolom kategorikal saya menggunakan OneHotEncoder dikarenakan data kategorikal yang ada pada data tidak bersifat ordinal, sedangkan pada kolom numerikal saya menggunakan standardscaler karena setelah outlier dihandle, distribusi data menjadi cukup normal sehingga saya tidak perlu melakukan normalisasi menggunakan MinMaxScaler"
   ]
  },
  {
   "cell_type": "markdown",
   "metadata": {},
   "source": [
    "## Preprocessing"
   ]
  },
  {
   "cell_type": "code",
   "execution_count": 149,
   "metadata": {},
   "outputs": [],
   "source": [
    "# memisahkan kolom numerikal dan kategorikal\n",
    "numerical_features = ['Levy', 'Prod. year','Engine volume','Mileage','Cylinders','Doors','Airbags']\n",
    "categorical_features = ['Manufacturer','Category','Gear box type','Drive wheels','Color','Leather interior','Wheel','Turbo']\n",
    "\n",
    "# ColumnTransformer untuk menangani OneHotEncoder pada fitur kategorikal\n",
    "preprocessor_categorical = ColumnTransformer(transformers=[\n",
    "    ('encoder', OneHotEncoder(), categorical_features),\n",
    "])\n",
    "\n",
    "numeric_pipeline = make_pipeline(\n",
    "    KNNImputer(n_neighbors=2),\n",
    "    Winsorizer(capping_method='iqr', tail='both', fold=1.5,variables=['x0','x3']),\n",
    "    StandardScaler()\n",
    ")\n",
    "\n",
    "# Gabungkan fitur numerik dan fitur kategorikal\n",
    "preprocessor = ColumnTransformer(transformers=[\n",
    "    ('categorical', preprocessor_categorical, categorical_features),\n",
    "    ('numeric', numeric_pipeline, numerical_features),\n",
    "])\n"
   ]
  },
  {
   "cell_type": "markdown",
   "metadata": {},
   "source": [
    "selanjutnya setelah saya membuat pipeline berisikan tatap preprocessing data, saya akan menggabungkan nya dengan model. Dalam pemilihan model prediksi, saya akan memilih model yang memiliki nilai MAE (Mean Absolute Error) terkecil pada data tes. Model dengan nilai MAE terkecil menunjukkan bahwa prediksinya paling mendekati nilai sebenarnya dalam data tes, sehingga model tersebut dianggap memiliki kinerja yang lebih baik dalam memprediksi data baru secara akurat. Dengan demikian, kami akan memilih model dengan nilai MAE terkecil sebagai model prediksi yang paling optimal untuk digunakan dalam memprediksi data di luar sampel yang digunakan untuk melatih model."
   ]
  },
  {
   "cell_type": "markdown",
   "metadata": {},
   "source": [
    "## Linear Regression"
   ]
  },
  {
   "cell_type": "code",
   "execution_count": 150,
   "metadata": {},
   "outputs": [
    {
     "data": {
      "text/html": [
       "<style>#sk-container-id-11 {color: black;background-color: white;}#sk-container-id-11 pre{padding: 0;}#sk-container-id-11 div.sk-toggleable {background-color: white;}#sk-container-id-11 label.sk-toggleable__label {cursor: pointer;display: block;width: 100%;margin-bottom: 0;padding: 0.3em;box-sizing: border-box;text-align: center;}#sk-container-id-11 label.sk-toggleable__label-arrow:before {content: \"▸\";float: left;margin-right: 0.25em;color: #696969;}#sk-container-id-11 label.sk-toggleable__label-arrow:hover:before {color: black;}#sk-container-id-11 div.sk-estimator:hover label.sk-toggleable__label-arrow:before {color: black;}#sk-container-id-11 div.sk-toggleable__content {max-height: 0;max-width: 0;overflow: hidden;text-align: left;background-color: #f0f8ff;}#sk-container-id-11 div.sk-toggleable__content pre {margin: 0.2em;color: black;border-radius: 0.25em;background-color: #f0f8ff;}#sk-container-id-11 input.sk-toggleable__control:checked~div.sk-toggleable__content {max-height: 200px;max-width: 100%;overflow: auto;}#sk-container-id-11 input.sk-toggleable__control:checked~label.sk-toggleable__label-arrow:before {content: \"▾\";}#sk-container-id-11 div.sk-estimator input.sk-toggleable__control:checked~label.sk-toggleable__label {background-color: #d4ebff;}#sk-container-id-11 div.sk-label input.sk-toggleable__control:checked~label.sk-toggleable__label {background-color: #d4ebff;}#sk-container-id-11 input.sk-hidden--visually {border: 0;clip: rect(1px 1px 1px 1px);clip: rect(1px, 1px, 1px, 1px);height: 1px;margin: -1px;overflow: hidden;padding: 0;position: absolute;width: 1px;}#sk-container-id-11 div.sk-estimator {font-family: monospace;background-color: #f0f8ff;border: 1px dotted black;border-radius: 0.25em;box-sizing: border-box;margin-bottom: 0.5em;}#sk-container-id-11 div.sk-estimator:hover {background-color: #d4ebff;}#sk-container-id-11 div.sk-parallel-item::after {content: \"\";width: 100%;border-bottom: 1px solid gray;flex-grow: 1;}#sk-container-id-11 div.sk-label:hover label.sk-toggleable__label {background-color: #d4ebff;}#sk-container-id-11 div.sk-serial::before {content: \"\";position: absolute;border-left: 1px solid gray;box-sizing: border-box;top: 0;bottom: 0;left: 50%;z-index: 0;}#sk-container-id-11 div.sk-serial {display: flex;flex-direction: column;align-items: center;background-color: white;padding-right: 0.2em;padding-left: 0.2em;position: relative;}#sk-container-id-11 div.sk-item {position: relative;z-index: 1;}#sk-container-id-11 div.sk-parallel {display: flex;align-items: stretch;justify-content: center;background-color: white;position: relative;}#sk-container-id-11 div.sk-item::before, #sk-container-id-11 div.sk-parallel-item::before {content: \"\";position: absolute;border-left: 1px solid gray;box-sizing: border-box;top: 0;bottom: 0;left: 50%;z-index: -1;}#sk-container-id-11 div.sk-parallel-item {display: flex;flex-direction: column;z-index: 1;position: relative;background-color: white;}#sk-container-id-11 div.sk-parallel-item:first-child::after {align-self: flex-end;width: 50%;}#sk-container-id-11 div.sk-parallel-item:last-child::after {align-self: flex-start;width: 50%;}#sk-container-id-11 div.sk-parallel-item:only-child::after {width: 0;}#sk-container-id-11 div.sk-dashed-wrapped {border: 1px dashed gray;margin: 0 0.4em 0.5em 0.4em;box-sizing: border-box;padding-bottom: 0.4em;background-color: white;}#sk-container-id-11 div.sk-label label {font-family: monospace;font-weight: bold;display: inline-block;line-height: 1.2em;}#sk-container-id-11 div.sk-label-container {text-align: center;}#sk-container-id-11 div.sk-container {/* jupyter's `normalize.less` sets `[hidden] { display: none; }` but bootstrap.min.css set `[hidden] { display: none !important; }` so we also need the `!important` here to be able to override the default hidden behavior on the sphinx rendered scikit-learn.org. See: https://github.com/scikit-learn/scikit-learn/issues/21755 */display: inline-block !important;position: relative;}#sk-container-id-11 div.sk-text-repr-fallback {display: none;}</style><div id=\"sk-container-id-11\" class=\"sk-top-container\"><div class=\"sk-text-repr-fallback\"><pre>Pipeline(steps=[(&#x27;preproc&#x27;,\n",
       "                 ColumnTransformer(transformers=[(&#x27;categorical&#x27;,\n",
       "                                                  ColumnTransformer(transformers=[(&#x27;encoder&#x27;,\n",
       "                                                                                   OneHotEncoder(),\n",
       "                                                                                   [&#x27;Manufacturer&#x27;,\n",
       "                                                                                    &#x27;Category&#x27;,\n",
       "                                                                                    &#x27;Gear &#x27;\n",
       "                                                                                    &#x27;box &#x27;\n",
       "                                                                                    &#x27;type&#x27;,\n",
       "                                                                                    &#x27;Drive &#x27;\n",
       "                                                                                    &#x27;wheels&#x27;,\n",
       "                                                                                    &#x27;Color&#x27;,\n",
       "                                                                                    &#x27;Leather &#x27;\n",
       "                                                                                    &#x27;interior&#x27;,\n",
       "                                                                                    &#x27;Wheel&#x27;,\n",
       "                                                                                    &#x27;Turbo&#x27;])]),\n",
       "                                                  [&#x27;Manufacturer&#x27;, &#x27;Category&#x27;,\n",
       "                                                   &#x27;Gear box type&#x27;,\n",
       "                                                   &#x27;Drive wheels&#x27;, &#x27;Color&#x27;,\n",
       "                                                   &#x27;Leather interior&#x27;, &#x27;Wheel&#x27;,\n",
       "                                                   &#x27;Turbo&#x27;]),\n",
       "                                                 (&#x27;numeric&#x27;,\n",
       "                                                  Pipeline(steps=[(&#x27;knnimputer&#x27;,\n",
       "                                                                   KNNImputer(n_neighbors=2)),\n",
       "                                                                  (&#x27;winsorizer&#x27;,\n",
       "                                                                   Winsorizer(capping_method=&#x27;iqr&#x27;,\n",
       "                                                                              fold=1.5,\n",
       "                                                                              tail=&#x27;both&#x27;,\n",
       "                                                                              variables=[&#x27;x0&#x27;,\n",
       "                                                                                         &#x27;x3&#x27;])),\n",
       "                                                                  (&#x27;standardscaler&#x27;,\n",
       "                                                                   StandardScaler())]),\n",
       "                                                  [&#x27;Levy&#x27;, &#x27;Prod. year&#x27;,\n",
       "                                                   &#x27;Engine volume&#x27;, &#x27;Mileage&#x27;,\n",
       "                                                   &#x27;Cylinders&#x27;, &#x27;Doors&#x27;,\n",
       "                                                   &#x27;Airbags&#x27;])])),\n",
       "                (&#x27;model&#x27;, LinearRegression())])</pre><b>In a Jupyter environment, please rerun this cell to show the HTML representation or trust the notebook. <br />On GitHub, the HTML representation is unable to render, please try loading this page with nbviewer.org.</b></div><div class=\"sk-container\" hidden><div class=\"sk-item sk-dashed-wrapped\"><div class=\"sk-label-container\"><div class=\"sk-label sk-toggleable\"><input class=\"sk-toggleable__control sk-hidden--visually\" id=\"sk-estimator-id-101\" type=\"checkbox\" ><label for=\"sk-estimator-id-101\" class=\"sk-toggleable__label sk-toggleable__label-arrow\">Pipeline</label><div class=\"sk-toggleable__content\"><pre>Pipeline(steps=[(&#x27;preproc&#x27;,\n",
       "                 ColumnTransformer(transformers=[(&#x27;categorical&#x27;,\n",
       "                                                  ColumnTransformer(transformers=[(&#x27;encoder&#x27;,\n",
       "                                                                                   OneHotEncoder(),\n",
       "                                                                                   [&#x27;Manufacturer&#x27;,\n",
       "                                                                                    &#x27;Category&#x27;,\n",
       "                                                                                    &#x27;Gear &#x27;\n",
       "                                                                                    &#x27;box &#x27;\n",
       "                                                                                    &#x27;type&#x27;,\n",
       "                                                                                    &#x27;Drive &#x27;\n",
       "                                                                                    &#x27;wheels&#x27;,\n",
       "                                                                                    &#x27;Color&#x27;,\n",
       "                                                                                    &#x27;Leather &#x27;\n",
       "                                                                                    &#x27;interior&#x27;,\n",
       "                                                                                    &#x27;Wheel&#x27;,\n",
       "                                                                                    &#x27;Turbo&#x27;])]),\n",
       "                                                  [&#x27;Manufacturer&#x27;, &#x27;Category&#x27;,\n",
       "                                                   &#x27;Gear box type&#x27;,\n",
       "                                                   &#x27;Drive wheels&#x27;, &#x27;Color&#x27;,\n",
       "                                                   &#x27;Leather interior&#x27;, &#x27;Wheel&#x27;,\n",
       "                                                   &#x27;Turbo&#x27;]),\n",
       "                                                 (&#x27;numeric&#x27;,\n",
       "                                                  Pipeline(steps=[(&#x27;knnimputer&#x27;,\n",
       "                                                                   KNNImputer(n_neighbors=2)),\n",
       "                                                                  (&#x27;winsorizer&#x27;,\n",
       "                                                                   Winsorizer(capping_method=&#x27;iqr&#x27;,\n",
       "                                                                              fold=1.5,\n",
       "                                                                              tail=&#x27;both&#x27;,\n",
       "                                                                              variables=[&#x27;x0&#x27;,\n",
       "                                                                                         &#x27;x3&#x27;])),\n",
       "                                                                  (&#x27;standardscaler&#x27;,\n",
       "                                                                   StandardScaler())]),\n",
       "                                                  [&#x27;Levy&#x27;, &#x27;Prod. year&#x27;,\n",
       "                                                   &#x27;Engine volume&#x27;, &#x27;Mileage&#x27;,\n",
       "                                                   &#x27;Cylinders&#x27;, &#x27;Doors&#x27;,\n",
       "                                                   &#x27;Airbags&#x27;])])),\n",
       "                (&#x27;model&#x27;, LinearRegression())])</pre></div></div></div><div class=\"sk-serial\"><div class=\"sk-item sk-dashed-wrapped\"><div class=\"sk-label-container\"><div class=\"sk-label sk-toggleable\"><input class=\"sk-toggleable__control sk-hidden--visually\" id=\"sk-estimator-id-102\" type=\"checkbox\" ><label for=\"sk-estimator-id-102\" class=\"sk-toggleable__label sk-toggleable__label-arrow\">preproc: ColumnTransformer</label><div class=\"sk-toggleable__content\"><pre>ColumnTransformer(transformers=[(&#x27;categorical&#x27;,\n",
       "                                 ColumnTransformer(transformers=[(&#x27;encoder&#x27;,\n",
       "                                                                  OneHotEncoder(),\n",
       "                                                                  [&#x27;Manufacturer&#x27;,\n",
       "                                                                   &#x27;Category&#x27;,\n",
       "                                                                   &#x27;Gear box &#x27;\n",
       "                                                                   &#x27;type&#x27;,\n",
       "                                                                   &#x27;Drive &#x27;\n",
       "                                                                   &#x27;wheels&#x27;,\n",
       "                                                                   &#x27;Color&#x27;,\n",
       "                                                                   &#x27;Leather &#x27;\n",
       "                                                                   &#x27;interior&#x27;,\n",
       "                                                                   &#x27;Wheel&#x27;,\n",
       "                                                                   &#x27;Turbo&#x27;])]),\n",
       "                                 [&#x27;Manufacturer&#x27;, &#x27;Category&#x27;, &#x27;Gear box type&#x27;,\n",
       "                                  &#x27;Drive wheels&#x27;, &#x27;Color&#x27;, &#x27;Leather interior&#x27;,\n",
       "                                  &#x27;Wheel&#x27;, &#x27;Turbo&#x27;]),\n",
       "                                (&#x27;numeric&#x27;,\n",
       "                                 Pipeline(steps=[(&#x27;knnimputer&#x27;,\n",
       "                                                  KNNImputer(n_neighbors=2)),\n",
       "                                                 (&#x27;winsorizer&#x27;,\n",
       "                                                  Winsorizer(capping_method=&#x27;iqr&#x27;,\n",
       "                                                             fold=1.5,\n",
       "                                                             tail=&#x27;both&#x27;,\n",
       "                                                             variables=[&#x27;x0&#x27;,\n",
       "                                                                        &#x27;x3&#x27;])),\n",
       "                                                 (&#x27;standardscaler&#x27;,\n",
       "                                                  StandardScaler())]),\n",
       "                                 [&#x27;Levy&#x27;, &#x27;Prod. year&#x27;, &#x27;Engine volume&#x27;,\n",
       "                                  &#x27;Mileage&#x27;, &#x27;Cylinders&#x27;, &#x27;Doors&#x27;,\n",
       "                                  &#x27;Airbags&#x27;])])</pre></div></div></div><div class=\"sk-parallel\"><div class=\"sk-parallel-item\"><div class=\"sk-item\"><div class=\"sk-label-container\"><div class=\"sk-label sk-toggleable\"><input class=\"sk-toggleable__control sk-hidden--visually\" id=\"sk-estimator-id-103\" type=\"checkbox\" ><label for=\"sk-estimator-id-103\" class=\"sk-toggleable__label sk-toggleable__label-arrow\">categorical</label><div class=\"sk-toggleable__content\"><pre>[&#x27;Manufacturer&#x27;, &#x27;Category&#x27;, &#x27;Gear box type&#x27;, &#x27;Drive wheels&#x27;, &#x27;Color&#x27;, &#x27;Leather interior&#x27;, &#x27;Wheel&#x27;, &#x27;Turbo&#x27;]</pre></div></div></div><div class=\"sk-serial\"><div class=\"sk-item sk-dashed-wrapped\"><div class=\"sk-parallel\"><div class=\"sk-parallel-item\"><div class=\"sk-item\"><div class=\"sk-label-container\"><div class=\"sk-label sk-toggleable\"><input class=\"sk-toggleable__control sk-hidden--visually\" id=\"sk-estimator-id-104\" type=\"checkbox\" ><label for=\"sk-estimator-id-104\" class=\"sk-toggleable__label sk-toggleable__label-arrow\">encoder</label><div class=\"sk-toggleable__content\"><pre>[&#x27;Manufacturer&#x27;, &#x27;Category&#x27;, &#x27;Gear box type&#x27;, &#x27;Drive wheels&#x27;, &#x27;Color&#x27;, &#x27;Leather interior&#x27;, &#x27;Wheel&#x27;, &#x27;Turbo&#x27;]</pre></div></div></div><div class=\"sk-serial\"><div class=\"sk-item\"><div class=\"sk-estimator sk-toggleable\"><input class=\"sk-toggleable__control sk-hidden--visually\" id=\"sk-estimator-id-105\" type=\"checkbox\" ><label for=\"sk-estimator-id-105\" class=\"sk-toggleable__label sk-toggleable__label-arrow\">OneHotEncoder</label><div class=\"sk-toggleable__content\"><pre>OneHotEncoder()</pre></div></div></div></div></div></div></div></div></div></div></div><div class=\"sk-parallel-item\"><div class=\"sk-item\"><div class=\"sk-label-container\"><div class=\"sk-label sk-toggleable\"><input class=\"sk-toggleable__control sk-hidden--visually\" id=\"sk-estimator-id-106\" type=\"checkbox\" ><label for=\"sk-estimator-id-106\" class=\"sk-toggleable__label sk-toggleable__label-arrow\">numeric</label><div class=\"sk-toggleable__content\"><pre>[&#x27;Levy&#x27;, &#x27;Prod. year&#x27;, &#x27;Engine volume&#x27;, &#x27;Mileage&#x27;, &#x27;Cylinders&#x27;, &#x27;Doors&#x27;, &#x27;Airbags&#x27;]</pre></div></div></div><div class=\"sk-serial\"><div class=\"sk-item\"><div class=\"sk-serial\"><div class=\"sk-item\"><div class=\"sk-estimator sk-toggleable\"><input class=\"sk-toggleable__control sk-hidden--visually\" id=\"sk-estimator-id-107\" type=\"checkbox\" ><label for=\"sk-estimator-id-107\" class=\"sk-toggleable__label sk-toggleable__label-arrow\">KNNImputer</label><div class=\"sk-toggleable__content\"><pre>KNNImputer(n_neighbors=2)</pre></div></div></div><div class=\"sk-item\"><div class=\"sk-estimator sk-toggleable\"><input class=\"sk-toggleable__control sk-hidden--visually\" id=\"sk-estimator-id-108\" type=\"checkbox\" ><label for=\"sk-estimator-id-108\" class=\"sk-toggleable__label sk-toggleable__label-arrow\">Winsorizer</label><div class=\"sk-toggleable__content\"><pre>Winsorizer(capping_method=&#x27;iqr&#x27;, fold=1.5, tail=&#x27;both&#x27;, variables=[&#x27;x0&#x27;, &#x27;x3&#x27;])</pre></div></div></div><div class=\"sk-item\"><div class=\"sk-estimator sk-toggleable\"><input class=\"sk-toggleable__control sk-hidden--visually\" id=\"sk-estimator-id-109\" type=\"checkbox\" ><label for=\"sk-estimator-id-109\" class=\"sk-toggleable__label sk-toggleable__label-arrow\">StandardScaler</label><div class=\"sk-toggleable__content\"><pre>StandardScaler()</pre></div></div></div></div></div></div></div></div></div></div><div class=\"sk-item\"><div class=\"sk-estimator sk-toggleable\"><input class=\"sk-toggleable__control sk-hidden--visually\" id=\"sk-estimator-id-110\" type=\"checkbox\" ><label for=\"sk-estimator-id-110\" class=\"sk-toggleable__label sk-toggleable__label-arrow\">LinearRegression</label><div class=\"sk-toggleable__content\"><pre>LinearRegression()</pre></div></div></div></div></div></div></div>"
      ],
      "text/plain": [
       "Pipeline(steps=[('preproc',\n",
       "                 ColumnTransformer(transformers=[('categorical',\n",
       "                                                  ColumnTransformer(transformers=[('encoder',\n",
       "                                                                                   OneHotEncoder(),\n",
       "                                                                                   ['Manufacturer',\n",
       "                                                                                    'Category',\n",
       "                                                                                    'Gear '\n",
       "                                                                                    'box '\n",
       "                                                                                    'type',\n",
       "                                                                                    'Drive '\n",
       "                                                                                    'wheels',\n",
       "                                                                                    'Color',\n",
       "                                                                                    'Leather '\n",
       "                                                                                    'interior',\n",
       "                                                                                    'Wheel',\n",
       "                                                                                    'Turbo'])]),\n",
       "                                                  ['Manufacturer', 'Category',\n",
       "                                                   'Gear box type',\n",
       "                                                   'Drive wheels', 'Color',\n",
       "                                                   'Leather interior', 'Wheel',\n",
       "                                                   'Turbo']),\n",
       "                                                 ('numeric',\n",
       "                                                  Pipeline(steps=[('knnimputer',\n",
       "                                                                   KNNImputer(n_neighbors=2)),\n",
       "                                                                  ('winsorizer',\n",
       "                                                                   Winsorizer(capping_method='iqr',\n",
       "                                                                              fold=1.5,\n",
       "                                                                              tail='both',\n",
       "                                                                              variables=['x0',\n",
       "                                                                                         'x3'])),\n",
       "                                                                  ('standardscaler',\n",
       "                                                                   StandardScaler())]),\n",
       "                                                  ['Levy', 'Prod. year',\n",
       "                                                   'Engine volume', 'Mileage',\n",
       "                                                   'Cylinders', 'Doors',\n",
       "                                                   'Airbags'])])),\n",
       "                ('model', LinearRegression())])"
      ]
     },
     "execution_count": 150,
     "metadata": {},
     "output_type": "execute_result"
    }
   ],
   "source": [
    "pipe_lin_reg = Pipeline([\n",
    "    ('preproc', preprocessor),\n",
    "    ('model', LinearRegression())\n",
    "])\n",
    "pipe_lin_reg.fit(X_train_clean,y_train_clean)"
   ]
  },
  {
   "cell_type": "code",
   "execution_count": 156,
   "metadata": {},
   "outputs": [
    {
     "data": {
      "text/plain": [
       "9399.740796467662"
      ]
     },
     "execution_count": 156,
     "metadata": {},
     "output_type": "execute_result"
    }
   ],
   "source": [
    "y_pred_train = pipe_lin_reg.predict(X_train_clean)\n",
    "lin_reg_mae_train = mean_absolute_error(y_train_clean, y_pred_train) # Mengecek MAE pada Data Train\n",
    "lin_reg_mae_train"
   ]
  },
  {
   "cell_type": "code",
   "execution_count": 151,
   "metadata": {},
   "outputs": [
    {
     "name": "stdout",
     "output_type": "stream",
     "text": [
      "Mean Absolute Error on Test Data: 16891.26150123462\n"
     ]
    }
   ],
   "source": [
    "y_pred= pipe_lin_reg.predict(X_test)\n",
    "mae = mean_absolute_error(y_test, y_pred)       # Mengecek MAE pada data test\n",
    "print(\"Mean Absolute Error pada data tes:\", mae)"
   ]
  },
  {
   "cell_type": "markdown",
   "metadata": {},
   "source": [
    "## KNeighborsRegressor"
   ]
  },
  {
   "cell_type": "code",
   "execution_count": 157,
   "metadata": {},
   "outputs": [
    {
     "data": {
      "text/html": [
       "<style>#sk-container-id-12 {color: black;background-color: white;}#sk-container-id-12 pre{padding: 0;}#sk-container-id-12 div.sk-toggleable {background-color: white;}#sk-container-id-12 label.sk-toggleable__label {cursor: pointer;display: block;width: 100%;margin-bottom: 0;padding: 0.3em;box-sizing: border-box;text-align: center;}#sk-container-id-12 label.sk-toggleable__label-arrow:before {content: \"▸\";float: left;margin-right: 0.25em;color: #696969;}#sk-container-id-12 label.sk-toggleable__label-arrow:hover:before {color: black;}#sk-container-id-12 div.sk-estimator:hover label.sk-toggleable__label-arrow:before {color: black;}#sk-container-id-12 div.sk-toggleable__content {max-height: 0;max-width: 0;overflow: hidden;text-align: left;background-color: #f0f8ff;}#sk-container-id-12 div.sk-toggleable__content pre {margin: 0.2em;color: black;border-radius: 0.25em;background-color: #f0f8ff;}#sk-container-id-12 input.sk-toggleable__control:checked~div.sk-toggleable__content {max-height: 200px;max-width: 100%;overflow: auto;}#sk-container-id-12 input.sk-toggleable__control:checked~label.sk-toggleable__label-arrow:before {content: \"▾\";}#sk-container-id-12 div.sk-estimator input.sk-toggleable__control:checked~label.sk-toggleable__label {background-color: #d4ebff;}#sk-container-id-12 div.sk-label input.sk-toggleable__control:checked~label.sk-toggleable__label {background-color: #d4ebff;}#sk-container-id-12 input.sk-hidden--visually {border: 0;clip: rect(1px 1px 1px 1px);clip: rect(1px, 1px, 1px, 1px);height: 1px;margin: -1px;overflow: hidden;padding: 0;position: absolute;width: 1px;}#sk-container-id-12 div.sk-estimator {font-family: monospace;background-color: #f0f8ff;border: 1px dotted black;border-radius: 0.25em;box-sizing: border-box;margin-bottom: 0.5em;}#sk-container-id-12 div.sk-estimator:hover {background-color: #d4ebff;}#sk-container-id-12 div.sk-parallel-item::after {content: \"\";width: 100%;border-bottom: 1px solid gray;flex-grow: 1;}#sk-container-id-12 div.sk-label:hover label.sk-toggleable__label {background-color: #d4ebff;}#sk-container-id-12 div.sk-serial::before {content: \"\";position: absolute;border-left: 1px solid gray;box-sizing: border-box;top: 0;bottom: 0;left: 50%;z-index: 0;}#sk-container-id-12 div.sk-serial {display: flex;flex-direction: column;align-items: center;background-color: white;padding-right: 0.2em;padding-left: 0.2em;position: relative;}#sk-container-id-12 div.sk-item {position: relative;z-index: 1;}#sk-container-id-12 div.sk-parallel {display: flex;align-items: stretch;justify-content: center;background-color: white;position: relative;}#sk-container-id-12 div.sk-item::before, #sk-container-id-12 div.sk-parallel-item::before {content: \"\";position: absolute;border-left: 1px solid gray;box-sizing: border-box;top: 0;bottom: 0;left: 50%;z-index: -1;}#sk-container-id-12 div.sk-parallel-item {display: flex;flex-direction: column;z-index: 1;position: relative;background-color: white;}#sk-container-id-12 div.sk-parallel-item:first-child::after {align-self: flex-end;width: 50%;}#sk-container-id-12 div.sk-parallel-item:last-child::after {align-self: flex-start;width: 50%;}#sk-container-id-12 div.sk-parallel-item:only-child::after {width: 0;}#sk-container-id-12 div.sk-dashed-wrapped {border: 1px dashed gray;margin: 0 0.4em 0.5em 0.4em;box-sizing: border-box;padding-bottom: 0.4em;background-color: white;}#sk-container-id-12 div.sk-label label {font-family: monospace;font-weight: bold;display: inline-block;line-height: 1.2em;}#sk-container-id-12 div.sk-label-container {text-align: center;}#sk-container-id-12 div.sk-container {/* jupyter's `normalize.less` sets `[hidden] { display: none; }` but bootstrap.min.css set `[hidden] { display: none !important; }` so we also need the `!important` here to be able to override the default hidden behavior on the sphinx rendered scikit-learn.org. See: https://github.com/scikit-learn/scikit-learn/issues/21755 */display: inline-block !important;position: relative;}#sk-container-id-12 div.sk-text-repr-fallback {display: none;}</style><div id=\"sk-container-id-12\" class=\"sk-top-container\"><div class=\"sk-text-repr-fallback\"><pre>Pipeline(steps=[(&#x27;preproc&#x27;,\n",
       "                 ColumnTransformer(transformers=[(&#x27;categorical&#x27;,\n",
       "                                                  ColumnTransformer(transformers=[(&#x27;encoder&#x27;,\n",
       "                                                                                   OneHotEncoder(),\n",
       "                                                                                   [&#x27;Manufacturer&#x27;,\n",
       "                                                                                    &#x27;Category&#x27;,\n",
       "                                                                                    &#x27;Gear &#x27;\n",
       "                                                                                    &#x27;box &#x27;\n",
       "                                                                                    &#x27;type&#x27;,\n",
       "                                                                                    &#x27;Drive &#x27;\n",
       "                                                                                    &#x27;wheels&#x27;,\n",
       "                                                                                    &#x27;Color&#x27;,\n",
       "                                                                                    &#x27;Leather &#x27;\n",
       "                                                                                    &#x27;interior&#x27;,\n",
       "                                                                                    &#x27;Wheel&#x27;,\n",
       "                                                                                    &#x27;Turbo&#x27;])]),\n",
       "                                                  [&#x27;Manufacturer&#x27;, &#x27;Category&#x27;,\n",
       "                                                   &#x27;Gear box type&#x27;,\n",
       "                                                   &#x27;Drive wheels&#x27;, &#x27;Color&#x27;,\n",
       "                                                   &#x27;Leather interior&#x27;, &#x27;Wheel&#x27;,\n",
       "                                                   &#x27;Turbo&#x27;]),\n",
       "                                                 (&#x27;numeric&#x27;,\n",
       "                                                  Pipeline(steps=[(&#x27;knnimputer&#x27;,\n",
       "                                                                   KNNImputer(n_neighbors=2)),\n",
       "                                                                  (&#x27;winsorizer&#x27;,\n",
       "                                                                   Winsorizer(capping_method=&#x27;iqr&#x27;,\n",
       "                                                                              fold=1.5,\n",
       "                                                                              tail=&#x27;both&#x27;,\n",
       "                                                                              variables=[&#x27;x0&#x27;,\n",
       "                                                                                         &#x27;x3&#x27;])),\n",
       "                                                                  (&#x27;standardscaler&#x27;,\n",
       "                                                                   StandardScaler())]),\n",
       "                                                  [&#x27;Levy&#x27;, &#x27;Prod. year&#x27;,\n",
       "                                                   &#x27;Engine volume&#x27;, &#x27;Mileage&#x27;,\n",
       "                                                   &#x27;Cylinders&#x27;, &#x27;Doors&#x27;,\n",
       "                                                   &#x27;Airbags&#x27;])])),\n",
       "                (&#x27;model&#x27;, KNeighborsRegressor())])</pre><b>In a Jupyter environment, please rerun this cell to show the HTML representation or trust the notebook. <br />On GitHub, the HTML representation is unable to render, please try loading this page with nbviewer.org.</b></div><div class=\"sk-container\" hidden><div class=\"sk-item sk-dashed-wrapped\"><div class=\"sk-label-container\"><div class=\"sk-label sk-toggleable\"><input class=\"sk-toggleable__control sk-hidden--visually\" id=\"sk-estimator-id-111\" type=\"checkbox\" ><label for=\"sk-estimator-id-111\" class=\"sk-toggleable__label sk-toggleable__label-arrow\">Pipeline</label><div class=\"sk-toggleable__content\"><pre>Pipeline(steps=[(&#x27;preproc&#x27;,\n",
       "                 ColumnTransformer(transformers=[(&#x27;categorical&#x27;,\n",
       "                                                  ColumnTransformer(transformers=[(&#x27;encoder&#x27;,\n",
       "                                                                                   OneHotEncoder(),\n",
       "                                                                                   [&#x27;Manufacturer&#x27;,\n",
       "                                                                                    &#x27;Category&#x27;,\n",
       "                                                                                    &#x27;Gear &#x27;\n",
       "                                                                                    &#x27;box &#x27;\n",
       "                                                                                    &#x27;type&#x27;,\n",
       "                                                                                    &#x27;Drive &#x27;\n",
       "                                                                                    &#x27;wheels&#x27;,\n",
       "                                                                                    &#x27;Color&#x27;,\n",
       "                                                                                    &#x27;Leather &#x27;\n",
       "                                                                                    &#x27;interior&#x27;,\n",
       "                                                                                    &#x27;Wheel&#x27;,\n",
       "                                                                                    &#x27;Turbo&#x27;])]),\n",
       "                                                  [&#x27;Manufacturer&#x27;, &#x27;Category&#x27;,\n",
       "                                                   &#x27;Gear box type&#x27;,\n",
       "                                                   &#x27;Drive wheels&#x27;, &#x27;Color&#x27;,\n",
       "                                                   &#x27;Leather interior&#x27;, &#x27;Wheel&#x27;,\n",
       "                                                   &#x27;Turbo&#x27;]),\n",
       "                                                 (&#x27;numeric&#x27;,\n",
       "                                                  Pipeline(steps=[(&#x27;knnimputer&#x27;,\n",
       "                                                                   KNNImputer(n_neighbors=2)),\n",
       "                                                                  (&#x27;winsorizer&#x27;,\n",
       "                                                                   Winsorizer(capping_method=&#x27;iqr&#x27;,\n",
       "                                                                              fold=1.5,\n",
       "                                                                              tail=&#x27;both&#x27;,\n",
       "                                                                              variables=[&#x27;x0&#x27;,\n",
       "                                                                                         &#x27;x3&#x27;])),\n",
       "                                                                  (&#x27;standardscaler&#x27;,\n",
       "                                                                   StandardScaler())]),\n",
       "                                                  [&#x27;Levy&#x27;, &#x27;Prod. year&#x27;,\n",
       "                                                   &#x27;Engine volume&#x27;, &#x27;Mileage&#x27;,\n",
       "                                                   &#x27;Cylinders&#x27;, &#x27;Doors&#x27;,\n",
       "                                                   &#x27;Airbags&#x27;])])),\n",
       "                (&#x27;model&#x27;, KNeighborsRegressor())])</pre></div></div></div><div class=\"sk-serial\"><div class=\"sk-item sk-dashed-wrapped\"><div class=\"sk-label-container\"><div class=\"sk-label sk-toggleable\"><input class=\"sk-toggleable__control sk-hidden--visually\" id=\"sk-estimator-id-112\" type=\"checkbox\" ><label for=\"sk-estimator-id-112\" class=\"sk-toggleable__label sk-toggleable__label-arrow\">preproc: ColumnTransformer</label><div class=\"sk-toggleable__content\"><pre>ColumnTransformer(transformers=[(&#x27;categorical&#x27;,\n",
       "                                 ColumnTransformer(transformers=[(&#x27;encoder&#x27;,\n",
       "                                                                  OneHotEncoder(),\n",
       "                                                                  [&#x27;Manufacturer&#x27;,\n",
       "                                                                   &#x27;Category&#x27;,\n",
       "                                                                   &#x27;Gear box &#x27;\n",
       "                                                                   &#x27;type&#x27;,\n",
       "                                                                   &#x27;Drive &#x27;\n",
       "                                                                   &#x27;wheels&#x27;,\n",
       "                                                                   &#x27;Color&#x27;,\n",
       "                                                                   &#x27;Leather &#x27;\n",
       "                                                                   &#x27;interior&#x27;,\n",
       "                                                                   &#x27;Wheel&#x27;,\n",
       "                                                                   &#x27;Turbo&#x27;])]),\n",
       "                                 [&#x27;Manufacturer&#x27;, &#x27;Category&#x27;, &#x27;Gear box type&#x27;,\n",
       "                                  &#x27;Drive wheels&#x27;, &#x27;Color&#x27;, &#x27;Leather interior&#x27;,\n",
       "                                  &#x27;Wheel&#x27;, &#x27;Turbo&#x27;]),\n",
       "                                (&#x27;numeric&#x27;,\n",
       "                                 Pipeline(steps=[(&#x27;knnimputer&#x27;,\n",
       "                                                  KNNImputer(n_neighbors=2)),\n",
       "                                                 (&#x27;winsorizer&#x27;,\n",
       "                                                  Winsorizer(capping_method=&#x27;iqr&#x27;,\n",
       "                                                             fold=1.5,\n",
       "                                                             tail=&#x27;both&#x27;,\n",
       "                                                             variables=[&#x27;x0&#x27;,\n",
       "                                                                        &#x27;x3&#x27;])),\n",
       "                                                 (&#x27;standardscaler&#x27;,\n",
       "                                                  StandardScaler())]),\n",
       "                                 [&#x27;Levy&#x27;, &#x27;Prod. year&#x27;, &#x27;Engine volume&#x27;,\n",
       "                                  &#x27;Mileage&#x27;, &#x27;Cylinders&#x27;, &#x27;Doors&#x27;,\n",
       "                                  &#x27;Airbags&#x27;])])</pre></div></div></div><div class=\"sk-parallel\"><div class=\"sk-parallel-item\"><div class=\"sk-item\"><div class=\"sk-label-container\"><div class=\"sk-label sk-toggleable\"><input class=\"sk-toggleable__control sk-hidden--visually\" id=\"sk-estimator-id-113\" type=\"checkbox\" ><label for=\"sk-estimator-id-113\" class=\"sk-toggleable__label sk-toggleable__label-arrow\">categorical</label><div class=\"sk-toggleable__content\"><pre>[&#x27;Manufacturer&#x27;, &#x27;Category&#x27;, &#x27;Gear box type&#x27;, &#x27;Drive wheels&#x27;, &#x27;Color&#x27;, &#x27;Leather interior&#x27;, &#x27;Wheel&#x27;, &#x27;Turbo&#x27;]</pre></div></div></div><div class=\"sk-serial\"><div class=\"sk-item sk-dashed-wrapped\"><div class=\"sk-parallel\"><div class=\"sk-parallel-item\"><div class=\"sk-item\"><div class=\"sk-label-container\"><div class=\"sk-label sk-toggleable\"><input class=\"sk-toggleable__control sk-hidden--visually\" id=\"sk-estimator-id-114\" type=\"checkbox\" ><label for=\"sk-estimator-id-114\" class=\"sk-toggleable__label sk-toggleable__label-arrow\">encoder</label><div class=\"sk-toggleable__content\"><pre>[&#x27;Manufacturer&#x27;, &#x27;Category&#x27;, &#x27;Gear box type&#x27;, &#x27;Drive wheels&#x27;, &#x27;Color&#x27;, &#x27;Leather interior&#x27;, &#x27;Wheel&#x27;, &#x27;Turbo&#x27;]</pre></div></div></div><div class=\"sk-serial\"><div class=\"sk-item\"><div class=\"sk-estimator sk-toggleable\"><input class=\"sk-toggleable__control sk-hidden--visually\" id=\"sk-estimator-id-115\" type=\"checkbox\" ><label for=\"sk-estimator-id-115\" class=\"sk-toggleable__label sk-toggleable__label-arrow\">OneHotEncoder</label><div class=\"sk-toggleable__content\"><pre>OneHotEncoder()</pre></div></div></div></div></div></div></div></div></div></div></div><div class=\"sk-parallel-item\"><div class=\"sk-item\"><div class=\"sk-label-container\"><div class=\"sk-label sk-toggleable\"><input class=\"sk-toggleable__control sk-hidden--visually\" id=\"sk-estimator-id-116\" type=\"checkbox\" ><label for=\"sk-estimator-id-116\" class=\"sk-toggleable__label sk-toggleable__label-arrow\">numeric</label><div class=\"sk-toggleable__content\"><pre>[&#x27;Levy&#x27;, &#x27;Prod. year&#x27;, &#x27;Engine volume&#x27;, &#x27;Mileage&#x27;, &#x27;Cylinders&#x27;, &#x27;Doors&#x27;, &#x27;Airbags&#x27;]</pre></div></div></div><div class=\"sk-serial\"><div class=\"sk-item\"><div class=\"sk-serial\"><div class=\"sk-item\"><div class=\"sk-estimator sk-toggleable\"><input class=\"sk-toggleable__control sk-hidden--visually\" id=\"sk-estimator-id-117\" type=\"checkbox\" ><label for=\"sk-estimator-id-117\" class=\"sk-toggleable__label sk-toggleable__label-arrow\">KNNImputer</label><div class=\"sk-toggleable__content\"><pre>KNNImputer(n_neighbors=2)</pre></div></div></div><div class=\"sk-item\"><div class=\"sk-estimator sk-toggleable\"><input class=\"sk-toggleable__control sk-hidden--visually\" id=\"sk-estimator-id-118\" type=\"checkbox\" ><label for=\"sk-estimator-id-118\" class=\"sk-toggleable__label sk-toggleable__label-arrow\">Winsorizer</label><div class=\"sk-toggleable__content\"><pre>Winsorizer(capping_method=&#x27;iqr&#x27;, fold=1.5, tail=&#x27;both&#x27;, variables=[&#x27;x0&#x27;, &#x27;x3&#x27;])</pre></div></div></div><div class=\"sk-item\"><div class=\"sk-estimator sk-toggleable\"><input class=\"sk-toggleable__control sk-hidden--visually\" id=\"sk-estimator-id-119\" type=\"checkbox\" ><label for=\"sk-estimator-id-119\" class=\"sk-toggleable__label sk-toggleable__label-arrow\">StandardScaler</label><div class=\"sk-toggleable__content\"><pre>StandardScaler()</pre></div></div></div></div></div></div></div></div></div></div><div class=\"sk-item\"><div class=\"sk-estimator sk-toggleable\"><input class=\"sk-toggleable__control sk-hidden--visually\" id=\"sk-estimator-id-120\" type=\"checkbox\" ><label for=\"sk-estimator-id-120\" class=\"sk-toggleable__label sk-toggleable__label-arrow\">KNeighborsRegressor</label><div class=\"sk-toggleable__content\"><pre>KNeighborsRegressor()</pre></div></div></div></div></div></div></div>"
      ],
      "text/plain": [
       "Pipeline(steps=[('preproc',\n",
       "                 ColumnTransformer(transformers=[('categorical',\n",
       "                                                  ColumnTransformer(transformers=[('encoder',\n",
       "                                                                                   OneHotEncoder(),\n",
       "                                                                                   ['Manufacturer',\n",
       "                                                                                    'Category',\n",
       "                                                                                    'Gear '\n",
       "                                                                                    'box '\n",
       "                                                                                    'type',\n",
       "                                                                                    'Drive '\n",
       "                                                                                    'wheels',\n",
       "                                                                                    'Color',\n",
       "                                                                                    'Leather '\n",
       "                                                                                    'interior',\n",
       "                                                                                    'Wheel',\n",
       "                                                                                    'Turbo'])]),\n",
       "                                                  ['Manufacturer', 'Category',\n",
       "                                                   'Gear box type',\n",
       "                                                   'Drive wheels', 'Color',\n",
       "                                                   'Leather interior', 'Wheel',\n",
       "                                                   'Turbo']),\n",
       "                                                 ('numeric',\n",
       "                                                  Pipeline(steps=[('knnimputer',\n",
       "                                                                   KNNImputer(n_neighbors=2)),\n",
       "                                                                  ('winsorizer',\n",
       "                                                                   Winsorizer(capping_method='iqr',\n",
       "                                                                              fold=1.5,\n",
       "                                                                              tail='both',\n",
       "                                                                              variables=['x0',\n",
       "                                                                                         'x3'])),\n",
       "                                                                  ('standardscaler',\n",
       "                                                                   StandardScaler())]),\n",
       "                                                  ['Levy', 'Prod. year',\n",
       "                                                   'Engine volume', 'Mileage',\n",
       "                                                   'Cylinders', 'Doors',\n",
       "                                                   'Airbags'])])),\n",
       "                ('model', KNeighborsRegressor())])"
      ]
     },
     "execution_count": 157,
     "metadata": {},
     "output_type": "execute_result"
    }
   ],
   "source": [
    "pipe_KNN = Pipeline([\n",
    "    ('preproc', preprocessor),\n",
    "    ('model', KNeighborsRegressor())\n",
    "])\n",
    "pipe_KNN.fit(X_train_clean,y_train_clean)"
   ]
  },
  {
   "cell_type": "code",
   "execution_count": 158,
   "metadata": {},
   "outputs": [
    {
     "data": {
      "text/plain": [
       "5289.329576123194"
      ]
     },
     "execution_count": 158,
     "metadata": {},
     "output_type": "execute_result"
    }
   ],
   "source": [
    "y_pred_train = pipe_KNN.predict(X_train_clean)\n",
    "KNN_mae_train = mean_absolute_error(y_train_clean, y_pred_train)    # Mengecek MAE pada Data Train\n",
    "KNN_mae_train"
   ]
  },
  {
   "cell_type": "code",
   "execution_count": 159,
   "metadata": {},
   "outputs": [
    {
     "name": "stdout",
     "output_type": "stream",
     "text": [
      "Mean Absolute Error pada data tes: 13266.37962577963\n"
     ]
    }
   ],
   "source": [
    "y_pred= pipe_KNN.predict(X_test)\n",
    "mae = mean_absolute_error(y_test, y_pred)                           # Mengecek MAE pada data test\n",
    "print(\"Mean Absolute Error pada data tes:\", mae)"
   ]
  },
  {
   "cell_type": "markdown",
   "metadata": {},
   "source": [
    "## DecisionTreeRegressor"
   ]
  },
  {
   "cell_type": "code",
   "execution_count": 164,
   "metadata": {},
   "outputs": [
    {
     "data": {
      "text/html": [
       "<style>#sk-container-id-15 {color: black;background-color: white;}#sk-container-id-15 pre{padding: 0;}#sk-container-id-15 div.sk-toggleable {background-color: white;}#sk-container-id-15 label.sk-toggleable__label {cursor: pointer;display: block;width: 100%;margin-bottom: 0;padding: 0.3em;box-sizing: border-box;text-align: center;}#sk-container-id-15 label.sk-toggleable__label-arrow:before {content: \"▸\";float: left;margin-right: 0.25em;color: #696969;}#sk-container-id-15 label.sk-toggleable__label-arrow:hover:before {color: black;}#sk-container-id-15 div.sk-estimator:hover label.sk-toggleable__label-arrow:before {color: black;}#sk-container-id-15 div.sk-toggleable__content {max-height: 0;max-width: 0;overflow: hidden;text-align: left;background-color: #f0f8ff;}#sk-container-id-15 div.sk-toggleable__content pre {margin: 0.2em;color: black;border-radius: 0.25em;background-color: #f0f8ff;}#sk-container-id-15 input.sk-toggleable__control:checked~div.sk-toggleable__content {max-height: 200px;max-width: 100%;overflow: auto;}#sk-container-id-15 input.sk-toggleable__control:checked~label.sk-toggleable__label-arrow:before {content: \"▾\";}#sk-container-id-15 div.sk-estimator input.sk-toggleable__control:checked~label.sk-toggleable__label {background-color: #d4ebff;}#sk-container-id-15 div.sk-label input.sk-toggleable__control:checked~label.sk-toggleable__label {background-color: #d4ebff;}#sk-container-id-15 input.sk-hidden--visually {border: 0;clip: rect(1px 1px 1px 1px);clip: rect(1px, 1px, 1px, 1px);height: 1px;margin: -1px;overflow: hidden;padding: 0;position: absolute;width: 1px;}#sk-container-id-15 div.sk-estimator {font-family: monospace;background-color: #f0f8ff;border: 1px dotted black;border-radius: 0.25em;box-sizing: border-box;margin-bottom: 0.5em;}#sk-container-id-15 div.sk-estimator:hover {background-color: #d4ebff;}#sk-container-id-15 div.sk-parallel-item::after {content: \"\";width: 100%;border-bottom: 1px solid gray;flex-grow: 1;}#sk-container-id-15 div.sk-label:hover label.sk-toggleable__label {background-color: #d4ebff;}#sk-container-id-15 div.sk-serial::before {content: \"\";position: absolute;border-left: 1px solid gray;box-sizing: border-box;top: 0;bottom: 0;left: 50%;z-index: 0;}#sk-container-id-15 div.sk-serial {display: flex;flex-direction: column;align-items: center;background-color: white;padding-right: 0.2em;padding-left: 0.2em;position: relative;}#sk-container-id-15 div.sk-item {position: relative;z-index: 1;}#sk-container-id-15 div.sk-parallel {display: flex;align-items: stretch;justify-content: center;background-color: white;position: relative;}#sk-container-id-15 div.sk-item::before, #sk-container-id-15 div.sk-parallel-item::before {content: \"\";position: absolute;border-left: 1px solid gray;box-sizing: border-box;top: 0;bottom: 0;left: 50%;z-index: -1;}#sk-container-id-15 div.sk-parallel-item {display: flex;flex-direction: column;z-index: 1;position: relative;background-color: white;}#sk-container-id-15 div.sk-parallel-item:first-child::after {align-self: flex-end;width: 50%;}#sk-container-id-15 div.sk-parallel-item:last-child::after {align-self: flex-start;width: 50%;}#sk-container-id-15 div.sk-parallel-item:only-child::after {width: 0;}#sk-container-id-15 div.sk-dashed-wrapped {border: 1px dashed gray;margin: 0 0.4em 0.5em 0.4em;box-sizing: border-box;padding-bottom: 0.4em;background-color: white;}#sk-container-id-15 div.sk-label label {font-family: monospace;font-weight: bold;display: inline-block;line-height: 1.2em;}#sk-container-id-15 div.sk-label-container {text-align: center;}#sk-container-id-15 div.sk-container {/* jupyter's `normalize.less` sets `[hidden] { display: none; }` but bootstrap.min.css set `[hidden] { display: none !important; }` so we also need the `!important` here to be able to override the default hidden behavior on the sphinx rendered scikit-learn.org. See: https://github.com/scikit-learn/scikit-learn/issues/21755 */display: inline-block !important;position: relative;}#sk-container-id-15 div.sk-text-repr-fallback {display: none;}</style><div id=\"sk-container-id-15\" class=\"sk-top-container\"><div class=\"sk-text-repr-fallback\"><pre>Pipeline(steps=[(&#x27;preproc&#x27;,\n",
       "                 ColumnTransformer(transformers=[(&#x27;categorical&#x27;,\n",
       "                                                  ColumnTransformer(transformers=[(&#x27;encoder&#x27;,\n",
       "                                                                                   OneHotEncoder(),\n",
       "                                                                                   [&#x27;Manufacturer&#x27;,\n",
       "                                                                                    &#x27;Category&#x27;,\n",
       "                                                                                    &#x27;Gear &#x27;\n",
       "                                                                                    &#x27;box &#x27;\n",
       "                                                                                    &#x27;type&#x27;,\n",
       "                                                                                    &#x27;Drive &#x27;\n",
       "                                                                                    &#x27;wheels&#x27;,\n",
       "                                                                                    &#x27;Color&#x27;,\n",
       "                                                                                    &#x27;Leather &#x27;\n",
       "                                                                                    &#x27;interior&#x27;,\n",
       "                                                                                    &#x27;Wheel&#x27;,\n",
       "                                                                                    &#x27;Turbo&#x27;])]),\n",
       "                                                  [&#x27;Manufacturer&#x27;, &#x27;Category&#x27;,\n",
       "                                                   &#x27;Gear box type&#x27;,\n",
       "                                                   &#x27;Drive wheels&#x27;, &#x27;Color&#x27;,\n",
       "                                                   &#x27;Leather interior&#x27;, &#x27;Wheel&#x27;,\n",
       "                                                   &#x27;Turbo&#x27;]),\n",
       "                                                 (&#x27;numeric&#x27;,\n",
       "                                                  Pipeline(steps=[(&#x27;knnimputer&#x27;,\n",
       "                                                                   KNNImputer(n_neighbors=2)),\n",
       "                                                                  (&#x27;winsorizer&#x27;,\n",
       "                                                                   Winsorizer(capping_method=&#x27;iqr&#x27;,\n",
       "                                                                              fold=1.5,\n",
       "                                                                              tail=&#x27;both&#x27;,\n",
       "                                                                              variables=[&#x27;x0&#x27;,\n",
       "                                                                                         &#x27;x3&#x27;])),\n",
       "                                                                  (&#x27;standardscaler&#x27;,\n",
       "                                                                   StandardScaler())]),\n",
       "                                                  [&#x27;Levy&#x27;, &#x27;Prod. year&#x27;,\n",
       "                                                   &#x27;Engine volume&#x27;, &#x27;Mileage&#x27;,\n",
       "                                                   &#x27;Cylinders&#x27;, &#x27;Doors&#x27;,\n",
       "                                                   &#x27;Airbags&#x27;])])),\n",
       "                (&#x27;model&#x27;, DecisionTreeRegressor(random_state=9))])</pre><b>In a Jupyter environment, please rerun this cell to show the HTML representation or trust the notebook. <br />On GitHub, the HTML representation is unable to render, please try loading this page with nbviewer.org.</b></div><div class=\"sk-container\" hidden><div class=\"sk-item sk-dashed-wrapped\"><div class=\"sk-label-container\"><div class=\"sk-label sk-toggleable\"><input class=\"sk-toggleable__control sk-hidden--visually\" id=\"sk-estimator-id-141\" type=\"checkbox\" ><label for=\"sk-estimator-id-141\" class=\"sk-toggleable__label sk-toggleable__label-arrow\">Pipeline</label><div class=\"sk-toggleable__content\"><pre>Pipeline(steps=[(&#x27;preproc&#x27;,\n",
       "                 ColumnTransformer(transformers=[(&#x27;categorical&#x27;,\n",
       "                                                  ColumnTransformer(transformers=[(&#x27;encoder&#x27;,\n",
       "                                                                                   OneHotEncoder(),\n",
       "                                                                                   [&#x27;Manufacturer&#x27;,\n",
       "                                                                                    &#x27;Category&#x27;,\n",
       "                                                                                    &#x27;Gear &#x27;\n",
       "                                                                                    &#x27;box &#x27;\n",
       "                                                                                    &#x27;type&#x27;,\n",
       "                                                                                    &#x27;Drive &#x27;\n",
       "                                                                                    &#x27;wheels&#x27;,\n",
       "                                                                                    &#x27;Color&#x27;,\n",
       "                                                                                    &#x27;Leather &#x27;\n",
       "                                                                                    &#x27;interior&#x27;,\n",
       "                                                                                    &#x27;Wheel&#x27;,\n",
       "                                                                                    &#x27;Turbo&#x27;])]),\n",
       "                                                  [&#x27;Manufacturer&#x27;, &#x27;Category&#x27;,\n",
       "                                                   &#x27;Gear box type&#x27;,\n",
       "                                                   &#x27;Drive wheels&#x27;, &#x27;Color&#x27;,\n",
       "                                                   &#x27;Leather interior&#x27;, &#x27;Wheel&#x27;,\n",
       "                                                   &#x27;Turbo&#x27;]),\n",
       "                                                 (&#x27;numeric&#x27;,\n",
       "                                                  Pipeline(steps=[(&#x27;knnimputer&#x27;,\n",
       "                                                                   KNNImputer(n_neighbors=2)),\n",
       "                                                                  (&#x27;winsorizer&#x27;,\n",
       "                                                                   Winsorizer(capping_method=&#x27;iqr&#x27;,\n",
       "                                                                              fold=1.5,\n",
       "                                                                              tail=&#x27;both&#x27;,\n",
       "                                                                              variables=[&#x27;x0&#x27;,\n",
       "                                                                                         &#x27;x3&#x27;])),\n",
       "                                                                  (&#x27;standardscaler&#x27;,\n",
       "                                                                   StandardScaler())]),\n",
       "                                                  [&#x27;Levy&#x27;, &#x27;Prod. year&#x27;,\n",
       "                                                   &#x27;Engine volume&#x27;, &#x27;Mileage&#x27;,\n",
       "                                                   &#x27;Cylinders&#x27;, &#x27;Doors&#x27;,\n",
       "                                                   &#x27;Airbags&#x27;])])),\n",
       "                (&#x27;model&#x27;, DecisionTreeRegressor(random_state=9))])</pre></div></div></div><div class=\"sk-serial\"><div class=\"sk-item sk-dashed-wrapped\"><div class=\"sk-label-container\"><div class=\"sk-label sk-toggleable\"><input class=\"sk-toggleable__control sk-hidden--visually\" id=\"sk-estimator-id-142\" type=\"checkbox\" ><label for=\"sk-estimator-id-142\" class=\"sk-toggleable__label sk-toggleable__label-arrow\">preproc: ColumnTransformer</label><div class=\"sk-toggleable__content\"><pre>ColumnTransformer(transformers=[(&#x27;categorical&#x27;,\n",
       "                                 ColumnTransformer(transformers=[(&#x27;encoder&#x27;,\n",
       "                                                                  OneHotEncoder(),\n",
       "                                                                  [&#x27;Manufacturer&#x27;,\n",
       "                                                                   &#x27;Category&#x27;,\n",
       "                                                                   &#x27;Gear box &#x27;\n",
       "                                                                   &#x27;type&#x27;,\n",
       "                                                                   &#x27;Drive &#x27;\n",
       "                                                                   &#x27;wheels&#x27;,\n",
       "                                                                   &#x27;Color&#x27;,\n",
       "                                                                   &#x27;Leather &#x27;\n",
       "                                                                   &#x27;interior&#x27;,\n",
       "                                                                   &#x27;Wheel&#x27;,\n",
       "                                                                   &#x27;Turbo&#x27;])]),\n",
       "                                 [&#x27;Manufacturer&#x27;, &#x27;Category&#x27;, &#x27;Gear box type&#x27;,\n",
       "                                  &#x27;Drive wheels&#x27;, &#x27;Color&#x27;, &#x27;Leather interior&#x27;,\n",
       "                                  &#x27;Wheel&#x27;, &#x27;Turbo&#x27;]),\n",
       "                                (&#x27;numeric&#x27;,\n",
       "                                 Pipeline(steps=[(&#x27;knnimputer&#x27;,\n",
       "                                                  KNNImputer(n_neighbors=2)),\n",
       "                                                 (&#x27;winsorizer&#x27;,\n",
       "                                                  Winsorizer(capping_method=&#x27;iqr&#x27;,\n",
       "                                                             fold=1.5,\n",
       "                                                             tail=&#x27;both&#x27;,\n",
       "                                                             variables=[&#x27;x0&#x27;,\n",
       "                                                                        &#x27;x3&#x27;])),\n",
       "                                                 (&#x27;standardscaler&#x27;,\n",
       "                                                  StandardScaler())]),\n",
       "                                 [&#x27;Levy&#x27;, &#x27;Prod. year&#x27;, &#x27;Engine volume&#x27;,\n",
       "                                  &#x27;Mileage&#x27;, &#x27;Cylinders&#x27;, &#x27;Doors&#x27;,\n",
       "                                  &#x27;Airbags&#x27;])])</pre></div></div></div><div class=\"sk-parallel\"><div class=\"sk-parallel-item\"><div class=\"sk-item\"><div class=\"sk-label-container\"><div class=\"sk-label sk-toggleable\"><input class=\"sk-toggleable__control sk-hidden--visually\" id=\"sk-estimator-id-143\" type=\"checkbox\" ><label for=\"sk-estimator-id-143\" class=\"sk-toggleable__label sk-toggleable__label-arrow\">categorical</label><div class=\"sk-toggleable__content\"><pre>[&#x27;Manufacturer&#x27;, &#x27;Category&#x27;, &#x27;Gear box type&#x27;, &#x27;Drive wheels&#x27;, &#x27;Color&#x27;, &#x27;Leather interior&#x27;, &#x27;Wheel&#x27;, &#x27;Turbo&#x27;]</pre></div></div></div><div class=\"sk-serial\"><div class=\"sk-item sk-dashed-wrapped\"><div class=\"sk-parallel\"><div class=\"sk-parallel-item\"><div class=\"sk-item\"><div class=\"sk-label-container\"><div class=\"sk-label sk-toggleable\"><input class=\"sk-toggleable__control sk-hidden--visually\" id=\"sk-estimator-id-144\" type=\"checkbox\" ><label for=\"sk-estimator-id-144\" class=\"sk-toggleable__label sk-toggleable__label-arrow\">encoder</label><div class=\"sk-toggleable__content\"><pre>[&#x27;Manufacturer&#x27;, &#x27;Category&#x27;, &#x27;Gear box type&#x27;, &#x27;Drive wheels&#x27;, &#x27;Color&#x27;, &#x27;Leather interior&#x27;, &#x27;Wheel&#x27;, &#x27;Turbo&#x27;]</pre></div></div></div><div class=\"sk-serial\"><div class=\"sk-item\"><div class=\"sk-estimator sk-toggleable\"><input class=\"sk-toggleable__control sk-hidden--visually\" id=\"sk-estimator-id-145\" type=\"checkbox\" ><label for=\"sk-estimator-id-145\" class=\"sk-toggleable__label sk-toggleable__label-arrow\">OneHotEncoder</label><div class=\"sk-toggleable__content\"><pre>OneHotEncoder()</pre></div></div></div></div></div></div></div></div></div></div></div><div class=\"sk-parallel-item\"><div class=\"sk-item\"><div class=\"sk-label-container\"><div class=\"sk-label sk-toggleable\"><input class=\"sk-toggleable__control sk-hidden--visually\" id=\"sk-estimator-id-146\" type=\"checkbox\" ><label for=\"sk-estimator-id-146\" class=\"sk-toggleable__label sk-toggleable__label-arrow\">numeric</label><div class=\"sk-toggleable__content\"><pre>[&#x27;Levy&#x27;, &#x27;Prod. year&#x27;, &#x27;Engine volume&#x27;, &#x27;Mileage&#x27;, &#x27;Cylinders&#x27;, &#x27;Doors&#x27;, &#x27;Airbags&#x27;]</pre></div></div></div><div class=\"sk-serial\"><div class=\"sk-item\"><div class=\"sk-serial\"><div class=\"sk-item\"><div class=\"sk-estimator sk-toggleable\"><input class=\"sk-toggleable__control sk-hidden--visually\" id=\"sk-estimator-id-147\" type=\"checkbox\" ><label for=\"sk-estimator-id-147\" class=\"sk-toggleable__label sk-toggleable__label-arrow\">KNNImputer</label><div class=\"sk-toggleable__content\"><pre>KNNImputer(n_neighbors=2)</pre></div></div></div><div class=\"sk-item\"><div class=\"sk-estimator sk-toggleable\"><input class=\"sk-toggleable__control sk-hidden--visually\" id=\"sk-estimator-id-148\" type=\"checkbox\" ><label for=\"sk-estimator-id-148\" class=\"sk-toggleable__label sk-toggleable__label-arrow\">Winsorizer</label><div class=\"sk-toggleable__content\"><pre>Winsorizer(capping_method=&#x27;iqr&#x27;, fold=1.5, tail=&#x27;both&#x27;, variables=[&#x27;x0&#x27;, &#x27;x3&#x27;])</pre></div></div></div><div class=\"sk-item\"><div class=\"sk-estimator sk-toggleable\"><input class=\"sk-toggleable__control sk-hidden--visually\" id=\"sk-estimator-id-149\" type=\"checkbox\" ><label for=\"sk-estimator-id-149\" class=\"sk-toggleable__label sk-toggleable__label-arrow\">StandardScaler</label><div class=\"sk-toggleable__content\"><pre>StandardScaler()</pre></div></div></div></div></div></div></div></div></div></div><div class=\"sk-item\"><div class=\"sk-estimator sk-toggleable\"><input class=\"sk-toggleable__control sk-hidden--visually\" id=\"sk-estimator-id-150\" type=\"checkbox\" ><label for=\"sk-estimator-id-150\" class=\"sk-toggleable__label sk-toggleable__label-arrow\">DecisionTreeRegressor</label><div class=\"sk-toggleable__content\"><pre>DecisionTreeRegressor(random_state=9)</pre></div></div></div></div></div></div></div>"
      ],
      "text/plain": [
       "Pipeline(steps=[('preproc',\n",
       "                 ColumnTransformer(transformers=[('categorical',\n",
       "                                                  ColumnTransformer(transformers=[('encoder',\n",
       "                                                                                   OneHotEncoder(),\n",
       "                                                                                   ['Manufacturer',\n",
       "                                                                                    'Category',\n",
       "                                                                                    'Gear '\n",
       "                                                                                    'box '\n",
       "                                                                                    'type',\n",
       "                                                                                    'Drive '\n",
       "                                                                                    'wheels',\n",
       "                                                                                    'Color',\n",
       "                                                                                    'Leather '\n",
       "                                                                                    'interior',\n",
       "                                                                                    'Wheel',\n",
       "                                                                                    'Turbo'])]),\n",
       "                                                  ['Manufacturer', 'Category',\n",
       "                                                   'Gear box type',\n",
       "                                                   'Drive wheels', 'Color',\n",
       "                                                   'Leather interior', 'Wheel',\n",
       "                                                   'Turbo']),\n",
       "                                                 ('numeric',\n",
       "                                                  Pipeline(steps=[('knnimputer',\n",
       "                                                                   KNNImputer(n_neighbors=2)),\n",
       "                                                                  ('winsorizer',\n",
       "                                                                   Winsorizer(capping_method='iqr',\n",
       "                                                                              fold=1.5,\n",
       "                                                                              tail='both',\n",
       "                                                                              variables=['x0',\n",
       "                                                                                         'x3'])),\n",
       "                                                                  ('standardscaler',\n",
       "                                                                   StandardScaler())]),\n",
       "                                                  ['Levy', 'Prod. year',\n",
       "                                                   'Engine volume', 'Mileage',\n",
       "                                                   'Cylinders', 'Doors',\n",
       "                                                   'Airbags'])])),\n",
       "                ('model', DecisionTreeRegressor(random_state=9))])"
      ]
     },
     "execution_count": 164,
     "metadata": {},
     "output_type": "execute_result"
    }
   ],
   "source": [
    "pipe_DTR = Pipeline([\n",
    "    ('preproc', preprocessor),\n",
    "    ('model', DecisionTreeRegressor(random_state=9))\n",
    "])\n",
    "pipe_DTR.fit(X_train_clean,y_train_clean)"
   ]
  },
  {
   "cell_type": "code",
   "execution_count": 161,
   "metadata": {},
   "outputs": [
    {
     "data": {
      "text/plain": [
       "25.10185951178172"
      ]
     },
     "execution_count": 161,
     "metadata": {},
     "output_type": "execute_result"
    }
   ],
   "source": [
    "y_pred_train = pipe_DTR.predict(X_train_clean)\n",
    "DTR_mae_train = mean_absolute_error(y_train_clean, y_pred_train)    # Mengecek MAE pada Data Train\n",
    "DTR_mae_train"
   ]
  },
  {
   "cell_type": "code",
   "execution_count": 162,
   "metadata": {},
   "outputs": [
    {
     "name": "stdout",
     "output_type": "stream",
     "text": [
      "Mean Absolute Error pada data tes: 12415.240405875022\n"
     ]
    }
   ],
   "source": [
    "y_pred= pipe_DTR.predict(X_test)\n",
    "mae = mean_absolute_error(y_test, y_pred)                           # Mengecek MAE pada data test\n",
    "print(\"Mean Absolute Error pada data tes:\", mae)"
   ]
  },
  {
   "cell_type": "markdown",
   "metadata": {},
   "source": [
    "## RandomForestRegressor"
   ]
  },
  {
   "cell_type": "code",
   "execution_count": 163,
   "metadata": {},
   "outputs": [
    {
     "data": {
      "text/html": [
       "<style>#sk-container-id-14 {color: black;background-color: white;}#sk-container-id-14 pre{padding: 0;}#sk-container-id-14 div.sk-toggleable {background-color: white;}#sk-container-id-14 label.sk-toggleable__label {cursor: pointer;display: block;width: 100%;margin-bottom: 0;padding: 0.3em;box-sizing: border-box;text-align: center;}#sk-container-id-14 label.sk-toggleable__label-arrow:before {content: \"▸\";float: left;margin-right: 0.25em;color: #696969;}#sk-container-id-14 label.sk-toggleable__label-arrow:hover:before {color: black;}#sk-container-id-14 div.sk-estimator:hover label.sk-toggleable__label-arrow:before {color: black;}#sk-container-id-14 div.sk-toggleable__content {max-height: 0;max-width: 0;overflow: hidden;text-align: left;background-color: #f0f8ff;}#sk-container-id-14 div.sk-toggleable__content pre {margin: 0.2em;color: black;border-radius: 0.25em;background-color: #f0f8ff;}#sk-container-id-14 input.sk-toggleable__control:checked~div.sk-toggleable__content {max-height: 200px;max-width: 100%;overflow: auto;}#sk-container-id-14 input.sk-toggleable__control:checked~label.sk-toggleable__label-arrow:before {content: \"▾\";}#sk-container-id-14 div.sk-estimator input.sk-toggleable__control:checked~label.sk-toggleable__label {background-color: #d4ebff;}#sk-container-id-14 div.sk-label input.sk-toggleable__control:checked~label.sk-toggleable__label {background-color: #d4ebff;}#sk-container-id-14 input.sk-hidden--visually {border: 0;clip: rect(1px 1px 1px 1px);clip: rect(1px, 1px, 1px, 1px);height: 1px;margin: -1px;overflow: hidden;padding: 0;position: absolute;width: 1px;}#sk-container-id-14 div.sk-estimator {font-family: monospace;background-color: #f0f8ff;border: 1px dotted black;border-radius: 0.25em;box-sizing: border-box;margin-bottom: 0.5em;}#sk-container-id-14 div.sk-estimator:hover {background-color: #d4ebff;}#sk-container-id-14 div.sk-parallel-item::after {content: \"\";width: 100%;border-bottom: 1px solid gray;flex-grow: 1;}#sk-container-id-14 div.sk-label:hover label.sk-toggleable__label {background-color: #d4ebff;}#sk-container-id-14 div.sk-serial::before {content: \"\";position: absolute;border-left: 1px solid gray;box-sizing: border-box;top: 0;bottom: 0;left: 50%;z-index: 0;}#sk-container-id-14 div.sk-serial {display: flex;flex-direction: column;align-items: center;background-color: white;padding-right: 0.2em;padding-left: 0.2em;position: relative;}#sk-container-id-14 div.sk-item {position: relative;z-index: 1;}#sk-container-id-14 div.sk-parallel {display: flex;align-items: stretch;justify-content: center;background-color: white;position: relative;}#sk-container-id-14 div.sk-item::before, #sk-container-id-14 div.sk-parallel-item::before {content: \"\";position: absolute;border-left: 1px solid gray;box-sizing: border-box;top: 0;bottom: 0;left: 50%;z-index: -1;}#sk-container-id-14 div.sk-parallel-item {display: flex;flex-direction: column;z-index: 1;position: relative;background-color: white;}#sk-container-id-14 div.sk-parallel-item:first-child::after {align-self: flex-end;width: 50%;}#sk-container-id-14 div.sk-parallel-item:last-child::after {align-self: flex-start;width: 50%;}#sk-container-id-14 div.sk-parallel-item:only-child::after {width: 0;}#sk-container-id-14 div.sk-dashed-wrapped {border: 1px dashed gray;margin: 0 0.4em 0.5em 0.4em;box-sizing: border-box;padding-bottom: 0.4em;background-color: white;}#sk-container-id-14 div.sk-label label {font-family: monospace;font-weight: bold;display: inline-block;line-height: 1.2em;}#sk-container-id-14 div.sk-label-container {text-align: center;}#sk-container-id-14 div.sk-container {/* jupyter's `normalize.less` sets `[hidden] { display: none; }` but bootstrap.min.css set `[hidden] { display: none !important; }` so we also need the `!important` here to be able to override the default hidden behavior on the sphinx rendered scikit-learn.org. See: https://github.com/scikit-learn/scikit-learn/issues/21755 */display: inline-block !important;position: relative;}#sk-container-id-14 div.sk-text-repr-fallback {display: none;}</style><div id=\"sk-container-id-14\" class=\"sk-top-container\"><div class=\"sk-text-repr-fallback\"><pre>Pipeline(steps=[(&#x27;preproc&#x27;,\n",
       "                 ColumnTransformer(transformers=[(&#x27;categorical&#x27;,\n",
       "                                                  ColumnTransformer(transformers=[(&#x27;encoder&#x27;,\n",
       "                                                                                   OneHotEncoder(),\n",
       "                                                                                   [&#x27;Manufacturer&#x27;,\n",
       "                                                                                    &#x27;Category&#x27;,\n",
       "                                                                                    &#x27;Gear &#x27;\n",
       "                                                                                    &#x27;box &#x27;\n",
       "                                                                                    &#x27;type&#x27;,\n",
       "                                                                                    &#x27;Drive &#x27;\n",
       "                                                                                    &#x27;wheels&#x27;,\n",
       "                                                                                    &#x27;Color&#x27;,\n",
       "                                                                                    &#x27;Leather &#x27;\n",
       "                                                                                    &#x27;interior&#x27;,\n",
       "                                                                                    &#x27;Wheel&#x27;,\n",
       "                                                                                    &#x27;Turbo&#x27;])]),\n",
       "                                                  [&#x27;Manufacturer&#x27;, &#x27;Category&#x27;,\n",
       "                                                   &#x27;Gear box type&#x27;,\n",
       "                                                   &#x27;Drive wheels&#x27;, &#x27;Color&#x27;,\n",
       "                                                   &#x27;Leather interior&#x27;, &#x27;Wheel&#x27;,\n",
       "                                                   &#x27;Turbo&#x27;]),\n",
       "                                                 (&#x27;numeric&#x27;,\n",
       "                                                  Pipeline(steps=[(&#x27;knnimputer&#x27;,\n",
       "                                                                   KNNImputer(n_neighbors=2)),\n",
       "                                                                  (&#x27;winsorizer&#x27;,\n",
       "                                                                   Winsorizer(capping_method=&#x27;iqr&#x27;,\n",
       "                                                                              fold=1.5,\n",
       "                                                                              tail=&#x27;both&#x27;,\n",
       "                                                                              variables=[&#x27;x0&#x27;,\n",
       "                                                                                         &#x27;x3&#x27;])),\n",
       "                                                                  (&#x27;standardscaler&#x27;,\n",
       "                                                                   StandardScaler())]),\n",
       "                                                  [&#x27;Levy&#x27;, &#x27;Prod. year&#x27;,\n",
       "                                                   &#x27;Engine volume&#x27;, &#x27;Mileage&#x27;,\n",
       "                                                   &#x27;Cylinders&#x27;, &#x27;Doors&#x27;,\n",
       "                                                   &#x27;Airbags&#x27;])])),\n",
       "                (&#x27;model&#x27;, RandomForestRegressor())])</pre><b>In a Jupyter environment, please rerun this cell to show the HTML representation or trust the notebook. <br />On GitHub, the HTML representation is unable to render, please try loading this page with nbviewer.org.</b></div><div class=\"sk-container\" hidden><div class=\"sk-item sk-dashed-wrapped\"><div class=\"sk-label-container\"><div class=\"sk-label sk-toggleable\"><input class=\"sk-toggleable__control sk-hidden--visually\" id=\"sk-estimator-id-131\" type=\"checkbox\" ><label for=\"sk-estimator-id-131\" class=\"sk-toggleable__label sk-toggleable__label-arrow\">Pipeline</label><div class=\"sk-toggleable__content\"><pre>Pipeline(steps=[(&#x27;preproc&#x27;,\n",
       "                 ColumnTransformer(transformers=[(&#x27;categorical&#x27;,\n",
       "                                                  ColumnTransformer(transformers=[(&#x27;encoder&#x27;,\n",
       "                                                                                   OneHotEncoder(),\n",
       "                                                                                   [&#x27;Manufacturer&#x27;,\n",
       "                                                                                    &#x27;Category&#x27;,\n",
       "                                                                                    &#x27;Gear &#x27;\n",
       "                                                                                    &#x27;box &#x27;\n",
       "                                                                                    &#x27;type&#x27;,\n",
       "                                                                                    &#x27;Drive &#x27;\n",
       "                                                                                    &#x27;wheels&#x27;,\n",
       "                                                                                    &#x27;Color&#x27;,\n",
       "                                                                                    &#x27;Leather &#x27;\n",
       "                                                                                    &#x27;interior&#x27;,\n",
       "                                                                                    &#x27;Wheel&#x27;,\n",
       "                                                                                    &#x27;Turbo&#x27;])]),\n",
       "                                                  [&#x27;Manufacturer&#x27;, &#x27;Category&#x27;,\n",
       "                                                   &#x27;Gear box type&#x27;,\n",
       "                                                   &#x27;Drive wheels&#x27;, &#x27;Color&#x27;,\n",
       "                                                   &#x27;Leather interior&#x27;, &#x27;Wheel&#x27;,\n",
       "                                                   &#x27;Turbo&#x27;]),\n",
       "                                                 (&#x27;numeric&#x27;,\n",
       "                                                  Pipeline(steps=[(&#x27;knnimputer&#x27;,\n",
       "                                                                   KNNImputer(n_neighbors=2)),\n",
       "                                                                  (&#x27;winsorizer&#x27;,\n",
       "                                                                   Winsorizer(capping_method=&#x27;iqr&#x27;,\n",
       "                                                                              fold=1.5,\n",
       "                                                                              tail=&#x27;both&#x27;,\n",
       "                                                                              variables=[&#x27;x0&#x27;,\n",
       "                                                                                         &#x27;x3&#x27;])),\n",
       "                                                                  (&#x27;standardscaler&#x27;,\n",
       "                                                                   StandardScaler())]),\n",
       "                                                  [&#x27;Levy&#x27;, &#x27;Prod. year&#x27;,\n",
       "                                                   &#x27;Engine volume&#x27;, &#x27;Mileage&#x27;,\n",
       "                                                   &#x27;Cylinders&#x27;, &#x27;Doors&#x27;,\n",
       "                                                   &#x27;Airbags&#x27;])])),\n",
       "                (&#x27;model&#x27;, RandomForestRegressor())])</pre></div></div></div><div class=\"sk-serial\"><div class=\"sk-item sk-dashed-wrapped\"><div class=\"sk-label-container\"><div class=\"sk-label sk-toggleable\"><input class=\"sk-toggleable__control sk-hidden--visually\" id=\"sk-estimator-id-132\" type=\"checkbox\" ><label for=\"sk-estimator-id-132\" class=\"sk-toggleable__label sk-toggleable__label-arrow\">preproc: ColumnTransformer</label><div class=\"sk-toggleable__content\"><pre>ColumnTransformer(transformers=[(&#x27;categorical&#x27;,\n",
       "                                 ColumnTransformer(transformers=[(&#x27;encoder&#x27;,\n",
       "                                                                  OneHotEncoder(),\n",
       "                                                                  [&#x27;Manufacturer&#x27;,\n",
       "                                                                   &#x27;Category&#x27;,\n",
       "                                                                   &#x27;Gear box &#x27;\n",
       "                                                                   &#x27;type&#x27;,\n",
       "                                                                   &#x27;Drive &#x27;\n",
       "                                                                   &#x27;wheels&#x27;,\n",
       "                                                                   &#x27;Color&#x27;,\n",
       "                                                                   &#x27;Leather &#x27;\n",
       "                                                                   &#x27;interior&#x27;,\n",
       "                                                                   &#x27;Wheel&#x27;,\n",
       "                                                                   &#x27;Turbo&#x27;])]),\n",
       "                                 [&#x27;Manufacturer&#x27;, &#x27;Category&#x27;, &#x27;Gear box type&#x27;,\n",
       "                                  &#x27;Drive wheels&#x27;, &#x27;Color&#x27;, &#x27;Leather interior&#x27;,\n",
       "                                  &#x27;Wheel&#x27;, &#x27;Turbo&#x27;]),\n",
       "                                (&#x27;numeric&#x27;,\n",
       "                                 Pipeline(steps=[(&#x27;knnimputer&#x27;,\n",
       "                                                  KNNImputer(n_neighbors=2)),\n",
       "                                                 (&#x27;winsorizer&#x27;,\n",
       "                                                  Winsorizer(capping_method=&#x27;iqr&#x27;,\n",
       "                                                             fold=1.5,\n",
       "                                                             tail=&#x27;both&#x27;,\n",
       "                                                             variables=[&#x27;x0&#x27;,\n",
       "                                                                        &#x27;x3&#x27;])),\n",
       "                                                 (&#x27;standardscaler&#x27;,\n",
       "                                                  StandardScaler())]),\n",
       "                                 [&#x27;Levy&#x27;, &#x27;Prod. year&#x27;, &#x27;Engine volume&#x27;,\n",
       "                                  &#x27;Mileage&#x27;, &#x27;Cylinders&#x27;, &#x27;Doors&#x27;,\n",
       "                                  &#x27;Airbags&#x27;])])</pre></div></div></div><div class=\"sk-parallel\"><div class=\"sk-parallel-item\"><div class=\"sk-item\"><div class=\"sk-label-container\"><div class=\"sk-label sk-toggleable\"><input class=\"sk-toggleable__control sk-hidden--visually\" id=\"sk-estimator-id-133\" type=\"checkbox\" ><label for=\"sk-estimator-id-133\" class=\"sk-toggleable__label sk-toggleable__label-arrow\">categorical</label><div class=\"sk-toggleable__content\"><pre>[&#x27;Manufacturer&#x27;, &#x27;Category&#x27;, &#x27;Gear box type&#x27;, &#x27;Drive wheels&#x27;, &#x27;Color&#x27;, &#x27;Leather interior&#x27;, &#x27;Wheel&#x27;, &#x27;Turbo&#x27;]</pre></div></div></div><div class=\"sk-serial\"><div class=\"sk-item sk-dashed-wrapped\"><div class=\"sk-parallel\"><div class=\"sk-parallel-item\"><div class=\"sk-item\"><div class=\"sk-label-container\"><div class=\"sk-label sk-toggleable\"><input class=\"sk-toggleable__control sk-hidden--visually\" id=\"sk-estimator-id-134\" type=\"checkbox\" ><label for=\"sk-estimator-id-134\" class=\"sk-toggleable__label sk-toggleable__label-arrow\">encoder</label><div class=\"sk-toggleable__content\"><pre>[&#x27;Manufacturer&#x27;, &#x27;Category&#x27;, &#x27;Gear box type&#x27;, &#x27;Drive wheels&#x27;, &#x27;Color&#x27;, &#x27;Leather interior&#x27;, &#x27;Wheel&#x27;, &#x27;Turbo&#x27;]</pre></div></div></div><div class=\"sk-serial\"><div class=\"sk-item\"><div class=\"sk-estimator sk-toggleable\"><input class=\"sk-toggleable__control sk-hidden--visually\" id=\"sk-estimator-id-135\" type=\"checkbox\" ><label for=\"sk-estimator-id-135\" class=\"sk-toggleable__label sk-toggleable__label-arrow\">OneHotEncoder</label><div class=\"sk-toggleable__content\"><pre>OneHotEncoder()</pre></div></div></div></div></div></div></div></div></div></div></div><div class=\"sk-parallel-item\"><div class=\"sk-item\"><div class=\"sk-label-container\"><div class=\"sk-label sk-toggleable\"><input class=\"sk-toggleable__control sk-hidden--visually\" id=\"sk-estimator-id-136\" type=\"checkbox\" ><label for=\"sk-estimator-id-136\" class=\"sk-toggleable__label sk-toggleable__label-arrow\">numeric</label><div class=\"sk-toggleable__content\"><pre>[&#x27;Levy&#x27;, &#x27;Prod. year&#x27;, &#x27;Engine volume&#x27;, &#x27;Mileage&#x27;, &#x27;Cylinders&#x27;, &#x27;Doors&#x27;, &#x27;Airbags&#x27;]</pre></div></div></div><div class=\"sk-serial\"><div class=\"sk-item\"><div class=\"sk-serial\"><div class=\"sk-item\"><div class=\"sk-estimator sk-toggleable\"><input class=\"sk-toggleable__control sk-hidden--visually\" id=\"sk-estimator-id-137\" type=\"checkbox\" ><label for=\"sk-estimator-id-137\" class=\"sk-toggleable__label sk-toggleable__label-arrow\">KNNImputer</label><div class=\"sk-toggleable__content\"><pre>KNNImputer(n_neighbors=2)</pre></div></div></div><div class=\"sk-item\"><div class=\"sk-estimator sk-toggleable\"><input class=\"sk-toggleable__control sk-hidden--visually\" id=\"sk-estimator-id-138\" type=\"checkbox\" ><label for=\"sk-estimator-id-138\" class=\"sk-toggleable__label sk-toggleable__label-arrow\">Winsorizer</label><div class=\"sk-toggleable__content\"><pre>Winsorizer(capping_method=&#x27;iqr&#x27;, fold=1.5, tail=&#x27;both&#x27;, variables=[&#x27;x0&#x27;, &#x27;x3&#x27;])</pre></div></div></div><div class=\"sk-item\"><div class=\"sk-estimator sk-toggleable\"><input class=\"sk-toggleable__control sk-hidden--visually\" id=\"sk-estimator-id-139\" type=\"checkbox\" ><label for=\"sk-estimator-id-139\" class=\"sk-toggleable__label sk-toggleable__label-arrow\">StandardScaler</label><div class=\"sk-toggleable__content\"><pre>StandardScaler()</pre></div></div></div></div></div></div></div></div></div></div><div class=\"sk-item\"><div class=\"sk-estimator sk-toggleable\"><input class=\"sk-toggleable__control sk-hidden--visually\" id=\"sk-estimator-id-140\" type=\"checkbox\" ><label for=\"sk-estimator-id-140\" class=\"sk-toggleable__label sk-toggleable__label-arrow\">RandomForestRegressor</label><div class=\"sk-toggleable__content\"><pre>RandomForestRegressor()</pre></div></div></div></div></div></div></div>"
      ],
      "text/plain": [
       "Pipeline(steps=[('preproc',\n",
       "                 ColumnTransformer(transformers=[('categorical',\n",
       "                                                  ColumnTransformer(transformers=[('encoder',\n",
       "                                                                                   OneHotEncoder(),\n",
       "                                                                                   ['Manufacturer',\n",
       "                                                                                    'Category',\n",
       "                                                                                    'Gear '\n",
       "                                                                                    'box '\n",
       "                                                                                    'type',\n",
       "                                                                                    'Drive '\n",
       "                                                                                    'wheels',\n",
       "                                                                                    'Color',\n",
       "                                                                                    'Leather '\n",
       "                                                                                    'interior',\n",
       "                                                                                    'Wheel',\n",
       "                                                                                    'Turbo'])]),\n",
       "                                                  ['Manufacturer', 'Category',\n",
       "                                                   'Gear box type',\n",
       "                                                   'Drive wheels', 'Color',\n",
       "                                                   'Leather interior', 'Wheel',\n",
       "                                                   'Turbo']),\n",
       "                                                 ('numeric',\n",
       "                                                  Pipeline(steps=[('knnimputer',\n",
       "                                                                   KNNImputer(n_neighbors=2)),\n",
       "                                                                  ('winsorizer',\n",
       "                                                                   Winsorizer(capping_method='iqr',\n",
       "                                                                              fold=1.5,\n",
       "                                                                              tail='both',\n",
       "                                                                              variables=['x0',\n",
       "                                                                                         'x3'])),\n",
       "                                                                  ('standardscaler',\n",
       "                                                                   StandardScaler())]),\n",
       "                                                  ['Levy', 'Prod. year',\n",
       "                                                   'Engine volume', 'Mileage',\n",
       "                                                   'Cylinders', 'Doors',\n",
       "                                                   'Airbags'])])),\n",
       "                ('model', RandomForestRegressor())])"
      ]
     },
     "execution_count": 163,
     "metadata": {},
     "output_type": "execute_result"
    }
   ],
   "source": [
    "pipe_RF = Pipeline([\n",
    "    ('preproc', preprocessor),\n",
    "    ('model', RandomForestRegressor(random_state=9))\n",
    "])\n",
    "pipe_RF.fit(X_train_clean,y_train_clean)"
   ]
  },
  {
   "cell_type": "code",
   "execution_count": 165,
   "metadata": {},
   "outputs": [
    {
     "data": {
      "text/plain": [
       "2049.3305324176004"
      ]
     },
     "execution_count": 165,
     "metadata": {},
     "output_type": "execute_result"
    }
   ],
   "source": [
    "y_pred_train = pipe_RF.predict(X_train_clean)\n",
    "RF_mae_train = mean_absolute_error(y_train_clean, y_pred_train) # Mengecek MAE pada Data Train\n",
    "RF_mae_train"
   ]
  },
  {
   "cell_type": "code",
   "execution_count": 202,
   "metadata": {},
   "outputs": [
    {
     "name": "stdout",
     "output_type": "stream",
     "text": [
      "Mean Absolute Error pada data tes: 11785.978598993806\n"
     ]
    }
   ],
   "source": [
    "y_pred1= pipe_RF.predict(X_test)\n",
    "mae1 = mean_absolute_error(y_test, y_pred1)                       # Mengecek MAE pada data test\n",
    "print(\"Mean Absolute Error pada data tes:\", mae1)"
   ]
  },
  {
   "cell_type": "markdown",
   "metadata": {},
   "source": [
    "Setelah mencoba 4 model yang berbeda, saya akan menggunakan model Random Forest Regressor dikarenakan nilai mean absolute error pada data tes nya merupakan yang paling kecil, berarti prediksinya paling mendekati dengan data aslinya"
   ]
  },
  {
   "cell_type": "markdown",
   "metadata": {},
   "source": [
    "# Hyperparameter Tuning"
   ]
  },
  {
   "cell_type": "code",
   "execution_count": 174,
   "metadata": {},
   "outputs": [
    {
     "name": "stdout",
     "output_type": "stream",
     "text": [
      "Parameter terbaik: {'model__max_features': 35, 'model__n_estimators': 100}\n"
     ]
    }
   ],
   "source": [
    "# Definisikan grid hyperparameter yang akan diuji\n",
    "param_grid = {'model__n_estimators': [100, 200], 'model__max_features': [35,33,31]}\n",
    "\n",
    "# Buat objek GridSearchCV dengan model, grid parameter, dan metrik evaluasi\n",
    "grid_search = GridSearchCV(pipe_RF, param_grid,cv=5)\n",
    "\n",
    "# Latih GridSearchCV pada data latih\n",
    "grid_search.fit(X_train_clean, y_train_clean)\n",
    "\n",
    "# Cetak parameter terbaik yang ditemukan\n",
    "print(\"Parameter terbaik:\", grid_search.best_params_)"
   ]
  },
  {
   "cell_type": "markdown",
   "metadata": {},
   "source": [
    "dikarenakan proses komputasi dari model random forest jauh lebih lama dari model-model lainnya, saya hanya mengetes 2 parameter tuning agar tidak terlalu lama, proses ini memakan waktu 20-30 menit dan setelah dilakukan hyperparameter tuning performa model meningkat sedikit"
   ]
  },
  {
   "cell_type": "code",
   "execution_count": 199,
   "metadata": {},
   "outputs": [
    {
     "name": "stdout",
     "output_type": "stream",
     "text": [
      "Mean Absolute Error pada data tes sebelum di tuning: 11785.978598993806\n",
      "Mean Absolute Error pada data tes setelah di tuning: 11729.467366065619\n"
     ]
    }
   ],
   "source": [
    "y_pred2= grid_search.predict(X_test)\n",
    "mae = mean_absolute_error(y_test, y_pred2)\n",
    "print(\"Mean Absolute Error pada data tes sebelum di tuning:\", mae1)\n",
    "print(\"Mean Absolute Error pada data tes setelah di tuning:\", mae)"
   ]
  },
  {
   "cell_type": "markdown",
   "metadata": {},
   "source": [
    "kelebihan dari model ini ialah model cenderung sederhana dan tidak terlalu kompleks, sehingga dapat lebih mudah  di interpretasikan . kekurangan dari model ini adalah MAE yang masih cukup besar, Hal ini menandakan bahwa ada beberapa data yang memiliki selisih prediksi yang signifikan dari nilai sebenarnya. Model ini dapat ditingkatkan lagi untuk mengurangi kesalahan prediksi lebih lanjut, terutama jika aplikasi yang diinginkan memerlukan tingkat akurasi yang lebih tinggi atau ketika data yang diprediksi memiliki variasi yang lebih besar.\n",
    "\n",
    "    kesimpulannya adalah model masih Underfit"
   ]
  },
  {
   "cell_type": "markdown",
   "metadata": {},
   "source": [
    "# Model Saving"
   ]
  },
  {
   "cell_type": "code",
   "execution_count": 181,
   "metadata": {},
   "outputs": [
    {
     "data": {
      "text/plain": [
       "['preproc.joblib']"
      ]
     },
     "execution_count": 181,
     "metadata": {},
     "output_type": "execute_result"
    }
   ],
   "source": [
    "# Simpan model menggunakan joblib\n",
    "model_file = \"model_rf_grid.joblib\"\n",
    "dump(grid_search, model_file)\n",
    "\n",
    "# Simpan model menggunakan joblib\n",
    "prep = \"preproc.joblib\"\n",
    "dump(preprocessor, prep)"
   ]
  },
  {
   "cell_type": "markdown",
   "metadata": {},
   "source": [
    "# Model Inference"
   ]
  },
  {
   "cell_type": "code",
   "execution_count": 179,
   "metadata": {},
   "outputs": [
    {
     "data": {
      "text/html": [
       "<div>\n",
       "<style scoped>\n",
       "    .dataframe tbody tr th:only-of-type {\n",
       "        vertical-align: middle;\n",
       "    }\n",
       "\n",
       "    .dataframe tbody tr th {\n",
       "        vertical-align: top;\n",
       "    }\n",
       "\n",
       "    .dataframe thead th {\n",
       "        text-align: right;\n",
       "    }\n",
       "</style>\n",
       "<table border=\"1\" class=\"dataframe\">\n",
       "  <thead>\n",
       "    <tr style=\"text-align: right;\">\n",
       "      <th></th>\n",
       "      <th>ID</th>\n",
       "      <th>Price</th>\n",
       "      <th>Levy</th>\n",
       "      <th>Manufacturer</th>\n",
       "      <th>Model</th>\n",
       "      <th>Prod. year</th>\n",
       "      <th>Category</th>\n",
       "      <th>Leather interior</th>\n",
       "      <th>Fuel type</th>\n",
       "      <th>Engine volume</th>\n",
       "      <th>Mileage</th>\n",
       "      <th>Cylinders</th>\n",
       "      <th>Gear box type</th>\n",
       "      <th>Drive wheels</th>\n",
       "      <th>Doors</th>\n",
       "      <th>Wheel</th>\n",
       "      <th>Color</th>\n",
       "      <th>Airbags</th>\n",
       "      <th>Turbo</th>\n",
       "    </tr>\n",
       "  </thead>\n",
       "  <tbody>\n",
       "    <tr>\n",
       "      <th>0</th>\n",
       "      <td>45732154</td>\n",
       "      <td>44724</td>\n",
       "      <td>971.00</td>\n",
       "      <td>HYUNDAI</td>\n",
       "      <td>Santa FE</td>\n",
       "      <td>2016</td>\n",
       "      <td>Jeep</td>\n",
       "      <td>True</td>\n",
       "      <td>Diesel</td>\n",
       "      <td>2.20</td>\n",
       "      <td>137986.00</td>\n",
       "      <td>4.00</td>\n",
       "      <td>Automatic</td>\n",
       "      <td>Front</td>\n",
       "      <td>4</td>\n",
       "      <td>Left wheel</td>\n",
       "      <td>Silver</td>\n",
       "      <td>4</td>\n",
       "      <td>False</td>\n",
       "    </tr>\n",
       "  </tbody>\n",
       "</table>\n",
       "</div>"
      ],
      "text/plain": [
       "         ID  Price   Levy Manufacturer     Model  Prod. year Category   \n",
       "0  45732154  44724 971.00      HYUNDAI  Santa FE        2016     Jeep  \\\n",
       "\n",
       "   Leather interior Fuel type  Engine volume   Mileage  Cylinders   \n",
       "0              True    Diesel           2.20 137986.00       4.00  \\\n",
       "\n",
       "  Gear box type Drive wheels  Doors       Wheel   Color  Airbags  Turbo  \n",
       "0     Automatic        Front      4  Left wheel  Silver        4  False  "
      ]
     },
     "execution_count": 179,
     "metadata": {},
     "output_type": "execute_result"
    }
   ],
   "source": [
    "new_row = df.sample(n=1).values.flatten() # Mengambil Value acak dari semua kolom untuk dijadikan Baris baru\n",
    "df_new = pd.DataFrame([new_row], columns=df.columns) # Membuat dataframe baru\n",
    "df_new"
   ]
  },
  {
   "cell_type": "code",
   "execution_count": 182,
   "metadata": {},
   "outputs": [],
   "source": [
    "# Muat model menggunakan joblib\n",
    "loaded_model = load(model_file)\n",
    "loaded_prep = load(prep)"
   ]
  },
  {
   "cell_type": "code",
   "execution_count": 184,
   "metadata": {},
   "outputs": [
    {
     "data": {
      "text/plain": [
       "array([44790.36])"
      ]
     },
     "execution_count": 184,
     "metadata": {},
     "output_type": "execute_result"
    }
   ],
   "source": [
    "inf_pred = loaded_model.predict(df_new)\n",
    "inf_pred"
   ]
  },
  {
   "cell_type": "markdown",
   "metadata": {},
   "source": [
    "# Summary"
   ]
  },
  {
   "cell_type": "markdown",
   "metadata": {},
   "source": [
    "dari hasil analisa yang dilakukan, sebagian besar mobil yang ada pada dataset ini diproduksi pada rentang tahun 2010-2020 dimana 3 manufaktur terbanyak nya yaitu hyundai, toyota , dan mercedes-benz.kategori terbanyak yang diproduksi ialah mobil sedan dengan harga berkisar hingga 150 ribuan dollar. rata-rata mobil masih menggunakan Petrol sebagai bahan bakar nya. untuk fitur keamanan seperti airbags, rata-rata mobil sudah memiliki 4 / 12 airbags. untuk jenis kemudi dan roda penggerak nya paling banyak ialah kemudi di sebelah kiri dan penggerak roda depan dengan 4 pintu . mobil yang dilengkapi dengan turbo dan interior kulit cenderung lebih tinggi harganya daripada mobil yang tidak memiliki kedua fitur tersebut"
   ]
  },
  {
   "cell_type": "markdown",
   "metadata": {},
   "source": [
    "sedangkan untuk model disini masih tergolong underfit sehingga future improvement nya ialah melakukan hyperparameter tuning kembali dengan parameter yang lebih banyak atau juga dengan mengulang kembali feature engineering dengan harapan performa model dapat meningkat"
   ]
  }
 ],
 "metadata": {
  "kernelspec": {
   "display_name": "base",
   "language": "python",
   "name": "python3"
  },
  "language_info": {
   "codemirror_mode": {
    "name": "ipython",
    "version": 3
   },
   "file_extension": ".py",
   "mimetype": "text/x-python",
   "name": "python",
   "nbconvert_exporter": "python",
   "pygments_lexer": "ipython3",
   "version": "3.9.16"
  },
  "orig_nbformat": 4
 },
 "nbformat": 4,
 "nbformat_minor": 2
}
